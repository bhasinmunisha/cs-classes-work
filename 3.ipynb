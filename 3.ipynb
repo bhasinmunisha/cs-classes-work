{
 "cells": [
  {
   "cell_type": "code",
   "execution_count": 12,
   "metadata": {},
   "outputs": [
    {
     "name": "stdout",
     "output_type": "stream",
     "text": [
      "held\n"
     ]
    }
   ],
   "source": [
    "#wap to form a string using first 2 and last 2 character of a given string\n",
    "str=\"hello world\"\n",
    "str=str[0:2]+str[-2:] \n",
    "print (str)"
   ]
  },
  {
   "cell_type": "code",
   "execution_count": 13,
   "metadata": {},
   "outputs": [
    {
     "name": "stdout",
     "output_type": "stream",
     "text": [
      "1\n",
      "2\n",
      "3\n",
      "4\n",
      "6\n",
      "7\n",
      "8\n",
      "9\n",
      "out of loop  11\n"
     ]
    }
   ],
   "source": [
    "i=1\n",
    "while(i<=10):\n",
    "  if(i%5==0):\n",
    "     i=i+1\n",
    "     continue\n",
    "     #pass\n",
    "  print(i)\n",
    "  i=i+1\n",
    "print(\"out of loop \",i)     \n",
    "     \n",
    "     \n",
    "     \n"
   ]
  },
  {
   "cell_type": "code",
   "execution_count": 16,
   "metadata": {},
   "outputs": [
    {
     "name": "stdout",
     "output_type": "stream",
     "text": [
      "1\n",
      "2\n",
      "3\n",
      "4\n",
      "6\n",
      "7\n",
      "8\n",
      "9\n",
      "11\n",
      "out of loop  12\n"
     ]
    }
   ],
   "source": [
    "i=1\n",
    "while(i<=10):\n",
    "  if(i%5==0):\n",
    "     i=i+1\n",
    "     pass #doesn't do anything \n",
    "  print(i)\n",
    "  i=i+1\n",
    "print(\"out of loop \",i)     \n",
    "     "
   ]
  },
  {
   "cell_type": "code",
   "execution_count": 15,
   "metadata": {},
   "outputs": [
    {
     "name": "stdout",
     "output_type": "stream",
     "text": [
      "2\n",
      "5\n",
      "7\n",
      "9\n",
      "4\n"
     ]
    }
   ],
   "source": [
    "list=[2,5,7,9,4]\n",
    "for p in list:\n",
    "    print(p)"
   ]
  },
  {
   "cell_type": "code",
   "execution_count": 6,
   "metadata": {},
   "outputs": [
    {
     "name": "stdout",
     "output_type": "stream",
     "text": [
      "0\n",
      "1\n",
      "2\n",
      "3\n",
      "4\n",
      "5\n",
      "6\n",
      "7\n",
      "8\n",
      "9\n",
      "10\n",
      "11\n",
      "12\n",
      "13\n",
      "14\n",
      "15\n",
      "16\n",
      "17\n",
      "18\n",
      "19\n",
      "20\n",
      "21\n",
      "22\n",
      "23\n",
      "24\n",
      "25\n",
      "26\n",
      "27\n",
      "28\n",
      "29\n",
      "30\n",
      "31\n",
      "32\n",
      "33\n",
      "34\n",
      "35\n",
      "36\n",
      "37\n",
      "38\n",
      "39\n",
      "40\n",
      "41\n",
      "42\n",
      "43\n",
      "44\n",
      "45\n",
      "46\n",
      "47\n",
      "48\n",
      "49\n",
      "50\n",
      "51\n",
      "52\n",
      "53\n",
      "54\n",
      "55\n",
      "56\n",
      "57\n",
      "58\n",
      "59\n",
      "60\n",
      "61\n",
      "62\n",
      "63\n",
      "64\n",
      "65\n",
      "66\n",
      "67\n",
      "68\n",
      "69\n",
      "70\n",
      "71\n",
      "72\n",
      "73\n",
      "74\n",
      "75\n",
      "76\n",
      "77\n",
      "78\n",
      "79\n",
      "80\n",
      "81\n",
      "82\n",
      "83\n",
      "84\n",
      "85\n",
      "86\n",
      "87\n",
      "88\n",
      "89\n",
      "90\n",
      "91\n",
      "92\n",
      "93\n",
      "94\n",
      "95\n",
      "96\n",
      "97\n",
      "98\n",
      "99\n"
     ]
    }
   ],
   "source": [
    "for i in range(100):\n",
    "    print (i)"
   ]
  },
  {
   "cell_type": "code",
   "execution_count": 17,
   "metadata": {},
   "outputs": [
    {
     "name": "stdout",
     "output_type": "stream",
     "text": [
      "1\n",
      "2\n",
      "3\n",
      "4\n",
      "5\n",
      "6\n",
      "7\n",
      "8\n",
      "9\n",
      "10\n",
      "11\n",
      "12\n",
      "13\n",
      "14\n",
      "15\n",
      "16\n",
      "17\n",
      "18\n",
      "19\n",
      "20\n",
      "21\n",
      "22\n",
      "23\n",
      "24\n",
      "25\n",
      "26\n",
      "27\n",
      "28\n",
      "29\n",
      "30\n",
      "31\n",
      "32\n",
      "33\n",
      "34\n",
      "35\n",
      "36\n",
      "37\n",
      "38\n",
      "39\n",
      "40\n",
      "41\n",
      "42\n",
      "43\n",
      "44\n",
      "45\n",
      "46\n",
      "47\n",
      "48\n",
      "49\n",
      "50\n",
      "51\n",
      "52\n",
      "53\n",
      "54\n",
      "55\n",
      "56\n",
      "57\n",
      "58\n",
      "59\n",
      "60\n",
      "61\n",
      "62\n",
      "63\n",
      "64\n",
      "65\n",
      "66\n",
      "67\n",
      "68\n",
      "69\n",
      "70\n",
      "71\n",
      "72\n",
      "73\n",
      "74\n",
      "75\n",
      "76\n",
      "77\n",
      "78\n",
      "79\n",
      "80\n",
      "81\n",
      "82\n",
      "83\n",
      "84\n",
      "85\n",
      "86\n",
      "87\n",
      "88\n",
      "89\n",
      "90\n",
      "91\n",
      "92\n",
      "93\n",
      "94\n",
      "95\n",
      "96\n",
      "97\n",
      "98\n",
      "99\n"
     ]
    }
   ],
   "source": [
    "for i in range(1,100):\n",
    "    print (i)"
   ]
  },
  {
   "cell_type": "code",
   "execution_count": 22,
   "metadata": {},
   "outputs": [
    {
     "name": "stdout",
     "output_type": "stream",
     "text": [
      "100\n",
      "99\n",
      "98\n",
      "97\n",
      "96\n",
      "95\n",
      "94\n",
      "93\n",
      "92\n",
      "91\n",
      "90\n",
      "89\n",
      "88\n",
      "87\n",
      "86\n",
      "85\n",
      "84\n",
      "83\n",
      "82\n",
      "81\n",
      "80\n",
      "79\n",
      "78\n",
      "77\n",
      "76\n",
      "75\n",
      "74\n",
      "73\n",
      "72\n",
      "71\n",
      "70\n",
      "69\n",
      "68\n",
      "67\n",
      "66\n",
      "65\n",
      "64\n",
      "63\n",
      "62\n",
      "61\n",
      "60\n",
      "59\n",
      "58\n",
      "57\n",
      "56\n",
      "55\n",
      "54\n",
      "53\n",
      "52\n",
      "51\n",
      "50\n",
      "49\n",
      "48\n",
      "47\n",
      "46\n",
      "45\n",
      "44\n",
      "43\n",
      "42\n",
      "41\n",
      "40\n",
      "39\n",
      "38\n",
      "37\n",
      "36\n",
      "35\n",
      "34\n",
      "33\n",
      "32\n",
      "31\n",
      "30\n",
      "29\n",
      "28\n",
      "27\n",
      "26\n",
      "25\n",
      "24\n",
      "23\n",
      "22\n",
      "21\n",
      "20\n",
      "19\n",
      "18\n",
      "17\n",
      "16\n",
      "15\n",
      "14\n",
      "13\n",
      "12\n",
      "11\n"
     ]
    }
   ],
   "source": [
    "for i in range(100,10,-1):\n",
    "    print (i)"
   ]
  },
  {
   "cell_type": "code",
   "execution_count": 23,
   "metadata": {},
   "outputs": [
    {
     "name": "stdout",
     "output_type": "stream",
     "text": [
      "**hello***\n"
     ]
    }
   ],
   "source": [
    "str=\"hello\"\n",
    "print(str.center(10,\"*\"))"
   ]
  },
  {
   "cell_type": "code",
   "execution_count": 25,
   "metadata": {},
   "outputs": [
    {
     "name": "stdout",
     "output_type": "stream",
     "text": [
      "    *    \n",
      "   ***   \n",
      "  *****  \n",
      " ******* \n"
     ]
    }
   ],
   "source": [
    "for i in range(1,5):\n",
    "    str=\"*\" * (2*i-1)\n",
    "    print(str.center(9,\" \"))"
   ]
  },
  {
   "cell_type": "code",
   "execution_count": 2,
   "metadata": {},
   "outputs": [
    {
     "name": "stdout",
     "output_type": "stream",
     "text": [
      "enter stringwww\n",
      "0\n"
     ]
    }
   ],
   "source": [
    "#was to count vowels in a string\n",
    "str=input(\"enter string\")\n",
    "count=0\n",
    "st=\"aeiouAEIOU\"\n",
    "for s in str:\n",
    "    if(st.find(s)!=-1):\n",
    "        count=count+1\n",
    "print(count)      "
   ]
  },
  {
   "cell_type": "code",
   "execution_count": 4,
   "metadata": {},
   "outputs": [
    {
     "name": "stdout",
     "output_type": "stream",
     "text": [
      "['physics', 'chemistry,maths']\n"
     ]
    }
   ],
   "source": [
    "#was to print each word and its length in a given string\n",
    "s=\"physics,chemistry,maths\"\n",
    "print(s.split(\",\",1)) #second arguments specify maximum split"
   ]
  },
  {
   "cell_type": "code",
   "execution_count": 5,
   "metadata": {},
   "outputs": [
    {
     "name": "stdout",
     "output_type": "stream",
     "text": [
      "enter stringhi i am here\n",
      "hi length is 2\n",
      "i length is 1\n",
      "am length is 2\n",
      "here length is 4\n"
     ]
    }
   ],
   "source": [
    "str=input(\"enter string\")\n",
    "lst=str.split(\" \")\n",
    "for p in lst:\n",
    "    print(p,\"length is\",len(p))"
   ]
  },
  {
   "cell_type": "code",
   "execution_count": 8,
   "metadata": {},
   "outputs": [
    {
     "name": "stdout",
     "output_type": "stream",
     "text": [
      "enter stringhe\n",
      "enter word to count occurancehe\n",
      "1\n"
     ]
    }
   ],
   "source": [
    "#was to find occurance of a word in a string\n",
    "str=input(\"enter string\")\n",
    "word=input(\"enter word to count occurance\")\n",
    "count=0\n",
    "lst=str.split(\" \")\n",
    "for p in lst:\n",
    "    if(p==word):\n",
    "        count=count+1\n",
    "print(count)    "
   ]
  },
  {
   "cell_type": "code",
   "execution_count": 13,
   "metadata": {},
   "outputs": [
    {
     "name": "stdout",
     "output_type": "stream",
     "text": [
      "2\n"
     ]
    }
   ],
   "source": [
    "str=\"this is india\"\n",
    "t=str.find(\"is\",0,len(str))\n",
    "print(t)"
   ]
  },
  {
   "cell_type": "code",
   "execution_count": 18,
   "metadata": {},
   "outputs": [
    {
     "name": "stdout",
     "output_type": "stream",
     "text": [
      "[]\n",
      "[12, 34, 56, 78]\n",
      "[1, 'abc', 3.4, 'q']\n",
      "[2, ['abc', 'xyz', 44], 56]\n",
      "[1, 'abc']\n",
      "78\n"
     ]
    }
   ],
   "source": [
    "lst=[]\n",
    "lst1=[12,34,56,78]\n",
    "lst2=[1,\"abc\",3.4,\"q\"]\n",
    "lst3=[2,[\"abc\",'xyz',44],56]\n",
    "print(lst)\n",
    "print(lst1)\n",
    "print(lst2)\n",
    "print(lst3)\n",
    "print(lst2[0:2])\n",
    "print(max(lst1))"
   ]
  },
  {
   "cell_type": "code",
   "execution_count": 19,
   "metadata": {},
   "outputs": [
    {
     "name": "stdout",
     "output_type": "stream",
     "text": [
      "36\n",
      "10\n"
     ]
    }
   ],
   "source": [
    "a=[1,2,3,4,5,6,7,8]\n",
    "print(sum(a))\n",
    "print(sum(a[:4]))"
   ]
  },
  {
   "cell_type": "code",
   "execution_count": 24,
   "metadata": {},
   "outputs": [
    {
     "name": "stdout",
     "output_type": "stream",
     "text": [
      "1\n",
      "24\n"
     ]
    }
   ],
   "source": [
    "s=a.index(2)\n",
    "print(s)\n",
    "b=a*3\n",
    "print(len(b))"
   ]
  },
  {
   "cell_type": "code",
   "execution_count": 31,
   "metadata": {},
   "outputs": [
    {
     "name": "stdout",
     "output_type": "stream",
     "text": [
      "[8, 7, 6, 5, 4, 3, 2, 1]\n",
      "[8, 7, 6, 5, 4, 3, 2, 1]\n"
     ]
    }
   ],
   "source": [
    "#list.sort() sorts the list and save the sorted list.while sorted(list) returns a sorted copy of the list,without changing the original list\n",
    "a.sort(reverse=True)\n",
    "print(a)\n",
    "print(sorted(a,reverse=True))"
   ]
  },
  {
   "cell_type": "code",
   "execution_count": 33,
   "metadata": {},
   "outputs": [
    {
     "name": "stdout",
     "output_type": "stream",
     "text": [
      "enter no of elements3\n",
      "enter word1\n",
      "enter word2\n",
      "enter word3\n",
      "['1', '2', '3']\n"
     ]
    }
   ],
   "source": [
    "lst=[]\n",
    "n=(int)(input(\"enter no of elements\"))\n",
    "for i in range(n):\n",
    "    word=input(\"enter word\")\n",
    "    lst.append(word)\n",
    "print(lst)   "
   ]
  },
  {
   "cell_type": "code",
   "execution_count": 37,
   "metadata": {},
   "outputs": [
    {
     "name": "stdout",
     "output_type": "stream",
     "text": [
      "[1, 2, 23, 3, 4, 5, 6]\n",
      "[1, 3, 4, 5, 6]\n",
      "6\n",
      "5\n"
     ]
    }
   ],
   "source": [
    "lst5=[1,2,3,4,5,6]\n",
    "lst5.insert(2,23)\n",
    "print(lst5)\n",
    "del(lst5[1])\n",
    "lst5.remove(23)\n",
    "print(lst5)\n",
    "x=lst5.pop()\n",
    "y=lst5.pop()\n",
    "print(x)\n",
    "print(y)"
   ]
  },
  {
   "cell_type": "code",
   "execution_count": 38,
   "metadata": {},
   "outputs": [
    {
     "name": "stdout",
     "output_type": "stream",
     "text": [
      "[3, 5, 6, 7, 8, 1, 2, 3]\n"
     ]
    }
   ],
   "source": [
    "a=[3,5,6,7,8]\n",
    "b=[1,2,3]\n",
    "a.extend(b)\n",
    "print(a)"
   ]
  },
  {
   "cell_type": "code",
   "execution_count": 1,
   "metadata": {},
   "outputs": [
    {
     "name": "stdout",
     "output_type": "stream",
     "text": [
      "[1, 2, 3, 4, 5, 6, 7, 8, 9, 10]\n"
     ]
    }
   ],
   "source": [
    "l=[]\n",
    "for i in range(1,11):\n",
    "    l.append(i)\n",
    "print(l)"
   ]
  },
  {
   "cell_type": "code",
   "execution_count": 4,
   "metadata": {},
   "outputs": [
    {
     "name": "stdout",
     "output_type": "stream",
     "text": [
      "[1, 2, 3, 4, 5, 6, 7, 8, 9, 10]\n"
     ]
    }
   ],
   "source": [
    "#list comprehension is used to fill data structure\n",
    "m=[x for x in range(1,11)]\n",
    "print(m)"
   ]
  },
  {
   "cell_type": "code",
   "execution_count": 6,
   "metadata": {},
   "outputs": [
    {
     "name": "stdout",
     "output_type": "stream",
     "text": [
      "3\n"
     ]
    }
   ],
   "source": [
    "#pick random item from list\n",
    "import random\n",
    "lst=[1,2,3,4,5,6]\n",
    "print(random.choice(lst))"
   ]
  },
  {
   "cell_type": "code",
   "execution_count": 15,
   "metadata": {},
   "outputs": [
    {
     "name": "stdout",
     "output_type": "stream",
     "text": [
      "False\n"
     ]
    }
   ],
   "source": [
    "#was to compare two list print true if they have any number in common\n",
    "lst=[1,2,3,4,5]\n",
    "lst1=[6,7,9]\n",
    "s=False\n",
    "for x in lst:\n",
    "    for y in lst1:\n",
    "        if(x==y):\n",
    "           s=True\n",
    "print(s)        \n",
    "     "
   ]
  },
  {
   "cell_type": "code",
   "execution_count": 20,
   "metadata": {},
   "outputs": [
    {
     "name": "stdout",
     "output_type": "stream",
     "text": [
      "mismatch\n"
     ]
    }
   ],
   "source": [
    "lst=[1,2,3,4,5]\n",
    "lst1=[2,3,4]\n",
    "s=True\n",
    "for x,y in zip(lst,lst1):\n",
    "    if(x!=y):\n",
    "        s=False\n",
    "if(s==True):\n",
    "    print(\"exact match\")\n",
    "else:\n",
    "    print(\"mismatch\")\n",
    "    "
   ]
  },
  {
   "cell_type": "code",
   "execution_count": 23,
   "metadata": {},
   "outputs": [
    {
     "name": "stdout",
     "output_type": "stream",
     "text": [
      "12 34 56\n"
     ]
    }
   ],
   "source": [
    "#unpacking in list\n",
    "lst=[12,34,56]\n",
    "a,b,c=lst\n",
    "print(a,b,c)"
   ]
  },
  {
   "cell_type": "code",
   "execution_count": 63,
   "metadata": {},
   "outputs": [
    {
     "name": "stdout",
     "output_type": "stream",
     "text": [
      "1530082803.4891903\n",
      "1530082803.4931917\n",
      "0.0040013790130615234\n"
     ]
    }
   ],
   "source": [
    "\n",
    "import time\n",
    "start=time.time()\n",
    "lst=[]\n",
    "print(start)\n",
    "for i in range(40):\n",
    "    lst.append(i)\n",
    "elst=time.time()\n",
    "print(elst)\n",
    "m=elst-start\n",
    "print(m)    \n",
    "    "
   ]
  },
  {
   "cell_type": "code",
   "execution_count": 68,
   "metadata": {},
   "outputs": [
    {
     "name": "stdout",
     "output_type": "stream",
     "text": [
      "0.0\n"
     ]
    }
   ],
   "source": [
    "import time\n",
    "str=time.time()\n",
    "lst1=[x for x in range(1000)]\n",
    "estr=time.time()\n",
    "m=estr-str\n",
    "print(m)"
   ]
  },
  {
   "cell_type": "code",
   "execution_count": 34,
   "metadata": {},
   "outputs": [
    {
     "name": "stdout",
     "output_type": "stream",
     "text": [
      "False\n",
      "0.0\n"
     ]
    }
   ],
   "source": [
    "import time\n",
    "start=time.time()\n",
    "\n",
    "end=time.time()\n",
    "print(end-start)"
   ]
  },
  {
   "cell_type": "code",
   "execution_count": 41,
   "metadata": {},
   "outputs": [
    {
     "name": "stdout",
     "output_type": "stream",
     "text": [
      "[0, 1, 4, 9, 16, 25, 36, 49, 64, 81]\n"
     ]
    }
   ],
   "source": [
    "#wa list comprehension to fill list with square of no.from 1to 10\n",
    "lst2=[x**2 for x in range(10)]\n",
    "print(lst2)"
   ]
  },
  {
   "cell_type": "code",
   "execution_count": 65,
   "metadata": {},
   "outputs": [
    {
     "name": "stdout",
     "output_type": "stream",
     "text": [
      "[961, 1024, 1089, 1156]\n"
     ]
    }
   ],
   "source": [
    "lst2=[x**2 for x in range (20,35) if (x>30)]\n",
    "print(lst2)"
   ]
  },
  {
   "cell_type": "code",
   "execution_count": 69,
   "metadata": {},
   "outputs": [
    {
     "name": "stdout",
     "output_type": "stream",
     "text": [
      "[400, 900]\n"
     ]
    }
   ],
   "source": [
    "lst2=[x**2 for x in range(20,35) if x%2==0 and x%5==0]\n",
    "print(lst2)"
   ]
  },
  {
   "cell_type": "code",
   "execution_count": 71,
   "metadata": {},
   "outputs": [
    {
     "name": "stdout",
     "output_type": "stream",
     "text": [
      "[1, 2, 4, 8, 16, 32, 64, 128, 256, 512, 1024]\n"
     ]
    }
   ],
   "source": [
    "#wa list comprehension to fill list with 2 raise to power no.\n",
    "lst3=[2**i for i in range(11)]\n",
    "print(lst3)"
   ]
  },
  {
   "cell_type": "code",
   "execution_count": 72,
   "metadata": {},
   "outputs": [
    {
     "name": "stdout",
     "output_type": "stream",
     "text": [
      "[2, 4, 8, 16, 32, 64, 128, 256, 512, 1024]\n"
     ]
    }
   ],
   "source": [
    "lst4=[x for x in lst3 if x%2==0]\n",
    "print(lst4)"
   ]
  },
  {
   "cell_type": "code",
   "execution_count": 73,
   "metadata": {},
   "outputs": [
    {
     "name": "stdout",
     "output_type": "stream",
     "text": [
      "['even', 'odd', 'even', 'odd', 'even', 'odd', 'even', 'odd', 'even', 'odd']\n"
     ]
    }
   ],
   "source": [
    "lst5=[\"even\" if(x%2==0) else \"odd\" for x in range(10)]\n",
    "print(lst5)"
   ]
  },
  {
   "cell_type": "code",
   "execution_count": 75,
   "metadata": {},
   "outputs": [
    {
     "name": "stdout",
     "output_type": "stream",
     "text": [
      "['a', 'x', 'r']\n"
     ]
    }
   ],
   "source": [
    "names=[\"abc\",\"xyz\",\"rrr\"]\n",
    "lst2=[x[0] for x in names]\n",
    "print(lst2)"
   ]
  },
  {
   "cell_type": "code",
   "execution_count": 76,
   "metadata": {},
   "outputs": [
    {
     "name": "stdout",
     "output_type": "stream",
     "text": [
      "['A', 'X', 'R']\n"
     ]
    }
   ],
   "source": [
    "lst2=[x[0].upper() for x in names]\n",
    "print(lst2)"
   ]
  },
  {
   "cell_type": "code",
   "execution_count": 77,
   "metadata": {},
   "outputs": [
    {
     "name": "stdout",
     "output_type": "stream",
     "text": [
      "['ABC', 'XYZ', 'RRR']\n"
     ]
    }
   ],
   "source": [
    "lst2=[x.upper() for x in names]\n",
    "print(lst2)"
   ]
  },
  {
   "cell_type": "code",
   "execution_count": 78,
   "metadata": {},
   "outputs": [
    {
     "name": "stdout",
     "output_type": "stream",
     "text": [
      "['Abc', 'Xyz', 'Rrr']\n"
     ]
    }
   ],
   "source": [
    "lst2=[x[0].upper()+x[1:].lower() for x in names]\n",
    "print(lst2)"
   ]
  },
  {
   "cell_type": "code",
   "execution_count": 79,
   "metadata": {},
   "outputs": [
    {
     "name": "stdout",
     "output_type": "stream",
     "text": [
      "['2', '3', '1', '2', '3', '4']\n"
     ]
    }
   ],
   "source": [
    "str=\"ar23af1234t\"\n",
    "lst=[x for x in str if x.isdigit()]\n",
    "print(lst)"
   ]
  },
  {
   "cell_type": "code",
   "execution_count": 80,
   "metadata": {},
   "outputs": [
    {
     "name": "stdout",
     "output_type": "stream",
     "text": [
      "[11, 12, 13, 21, 22, 23, 31, 32, 33]\n"
     ]
    }
   ],
   "source": [
    "#nested loops with list\n",
    "lst=[x+y for x in[10,20,30] for y in[1,2,3]]\n",
    "print(lst)\n"
   ]
  },
  {
   "cell_type": "code",
   "execution_count": 82,
   "metadata": {},
   "outputs": [
    {
     "name": "stdout",
     "output_type": "stream",
     "text": [
      "enter two numbers10 20\n",
      "10 20\n"
     ]
    }
   ],
   "source": [
    "x,y=[int(x) for x in input(\"enter two numbers\").split(\" \")]\n",
    "print(x,y)"
   ]
  },
  {
   "cell_type": "code",
   "execution_count": 85,
   "metadata": {},
   "outputs": [
    {
     "name": "stdout",
     "output_type": "stream",
     "text": [
      "enter two numbers10 20 30\n",
      "[10, 20, 30]\n"
     ]
    }
   ],
   "source": [
    "list=[int(x) for x in input(\"enter two numbers\").split(\" \")]\n",
    "print(list)"
   ]
  },
  {
   "cell_type": "code",
   "execution_count": 98,
   "metadata": {},
   "outputs": [
    {
     "name": "stdout",
     "output_type": "stream",
     "text": [
      "enter no of values5\n",
      "enter data5\n",
      "enter data4\n",
      "enter data3\n",
      "enter data2\n",
      "enter data1\n",
      "[1, 2, 3, 4, 5]\n",
      "4\n"
     ]
    }
   ],
   "source": [
    "#was to print second largest number from list\n",
    "list=[]\n",
    "m=[]\n",
    "n=(int)(input(\"enter no of values\"))\n",
    "for i in range(n):\n",
    "    ele=(int)(input(\"enter data\"))\n",
    "    list.append(ele)\n",
    "list.sort()\n",
    "print(list)\n",
    "print(list[-2])"
   ]
  },
  {
   "cell_type": "code",
   "execution_count": 4,
   "metadata": {},
   "outputs": [
    {
     "name": "stdout",
     "output_type": "stream",
     "text": [
      "[1368, 4036, 3905, 4644, 4043, 1731, 1648, 4776, 4216, 2779]\n"
     ]
    }
   ],
   "source": [
    "import random as rn\n",
    "lst=[]\n",
    "for i in range(10):\n",
    "    lst.append(rn.randint(0,5000))\n",
    "print(lst)    "
   ]
  },
  {
   "cell_type": "code",
   "execution_count": 5,
   "metadata": {},
   "outputs": [
    {
     "name": "stdout",
     "output_type": "stream",
     "text": [
      "[1, 35, 3, 4, 5]\n",
      "[1, 35, 3, 4, 5]\n"
     ]
    }
   ],
   "source": [
    "org_lst=[1,2,3,4,5]\n",
    "new_lst=org_lst\n",
    "new_lst[1]=35\n",
    "print(org_lst)\n",
    "print(new_lst)"
   ]
  },
  {
   "cell_type": "code",
   "execution_count": 7,
   "metadata": {},
   "outputs": [
    {
     "name": "stdout",
     "output_type": "stream",
     "text": [
      "[1, 35, 3, 4, 5]\n",
      "[1, 35, 21, 4, 5]\n"
     ]
    }
   ],
   "source": [
    "cpy_lst=list(org_lst)\n",
    "org_lst[2]=21\n",
    "print(cpy_lst)\n",
    "print(org_lst)"
   ]
  },
  {
   "cell_type": "code",
   "execution_count": 13,
   "metadata": {},
   "outputs": [
    {
     "name": "stdout",
     "output_type": "stream",
     "text": [
      "enter no10,21,30,41,50\n",
      "[10, 30, 50]\n",
      "[21, 41]\n"
     ]
    }
   ],
   "source": [
    "#was to input a list of numbers and put odd nos into seprate list and even number into seprate list\n",
    "lst=[] \n",
    "even=[]\n",
    "odd=[] \n",
    "lst=[int(x) for x in input(\"enter no\").split(\",\")] \n",
    "for x in lst: \n",
    "    even.append(x) if x%2==0 else odd.append(x) \n",
    "print(even) \n",
    "print(odd)"
   ]
  },
  {
   "cell_type": "code",
   "execution_count": null,
   "metadata": {},
   "outputs": [],
   "source": [
    "#was to input two list and form third sorted list\n",
    "a=[]\n",
    "b=[]\n",
    "c=[]\n",
    "a=[int(x) for x in input(\"enter no\").split(\",\")]\n",
    "b=[int(x) for x in input(\"enter no\").split(\",\")]\n",
    "c=a+b \n",
    "c.sort() \n",
    "print(c)\n",
    "\n"
   ]
  },
  {
   "cell_type": "code",
   "execution_count": null,
   "metadata": {},
   "outputs": [],
   "source": []
  }
 ],
 "metadata": {
  "kernelspec": {
   "display_name": "Python 3",
   "language": "python",
   "name": "python3"
  },
  "language_info": {
   "codemirror_mode": {
    "name": "ipython",
    "version": 3
   },
   "file_extension": ".py",
   "mimetype": "text/x-python",
   "name": "python",
   "nbconvert_exporter": "python",
   "pygments_lexer": "ipython3",
   "version": "3.6.5"
  }
 },
 "nbformat": 4,
 "nbformat_minor": 2
}
