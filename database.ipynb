{
 "cells": [
  {
   "cell_type": "code",
   "execution_count": 5,
   "metadata": {},
   "outputs": [],
   "source": [
    "from configparser import ConfigParser\n",
    "def read_db_config(filename=\"conf.ini\",section=\"MYSQL\"):\n",
    "    parser=ConfigParser()\n",
    "    parser.read(filename)\n",
    "    db={}\n",
    "    if parser.has_section(section):\n",
    "        items=parser.items(section)\n",
    "        for item in items:\n",
    "            db[item[0]]=item[1]\n",
    "    else:\n",
    "        raise exception(\"{}section not found in{}.format(section,filename)\")\n",
    "    return db \n",
    "#r=read_db_config()\n",
    "#print(r)"
   ]
  },
  {
   "cell_type": "code",
   "execution_count": null,
   "metadata": {},
   "outputs": [],
   "source": []
  }
 ],
 "metadata": {
  "kernelspec": {
   "display_name": "Python 3",
   "language": "python",
   "name": "python3"
  },
  "language_info": {
   "codemirror_mode": {
    "name": "ipython",
    "version": 3
   },
   "file_extension": ".py",
   "mimetype": "text/x-python",
   "name": "python",
   "nbconvert_exporter": "python",
   "pygments_lexer": "ipython3",
   "version": "3.6.5"
  }
 },
 "nbformat": 4,
 "nbformat_minor": 2
}
