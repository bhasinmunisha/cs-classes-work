{
 "cells": [
  {
   "cell_type": "code",
   "execution_count": 9,
   "metadata": {},
   "outputs": [
    {
     "name": "stdout",
     "output_type": "stream",
     "text": [
      "[1 3 7 2 9 4 6]\n",
      "int32\n",
      "1\n",
      "4\n"
     ]
    }
   ],
   "source": [
    "import numpy as np\n",
    "a=np.array([1,3,7,2,9,4,6])\n",
    "print(a)\n",
    "print(a.dtype)\n",
    "print(a.ndim) \n",
    "print(a.itemsize)                    #dimension of array"
   ]
  },
  {
   "cell_type": "code",
   "execution_count": 11,
   "metadata": {},
   "outputs": [
    {
     "name": "stdout",
     "output_type": "stream",
     "text": [
      "4\n"
     ]
    }
   ],
   "source": [
    "a=np.array([[1,3,7],[2,9,4]])\n",
    "print(a.itemsize)"
   ]
  },
  {
   "cell_type": "code",
   "execution_count": 12,
   "metadata": {},
   "outputs": [
    {
     "name": "stdout",
     "output_type": "stream",
     "text": [
      "[ 3  7 10 13 16 21]\n"
     ]
    }
   ],
   "source": [
    "ar=np.array([1,2,3,4,5,6])\n",
    "ar1=np.array([2,5,7,9,11,15])\n",
    "print(ar+ar1)                     #we can't add elements in array later"
   ]
  },
  {
   "cell_type": "code",
   "execution_count": 17,
   "metadata": {},
   "outputs": [
    {
     "name": "stdout",
     "output_type": "stream",
     "text": [
      "[12 45  9 23 67]\n"
     ]
    }
   ],
   "source": [
    "a=np.array((12,45,9,23,67))\n",
    "print(a)"
   ]
  },
  {
   "cell_type": "code",
   "execution_count": 20,
   "metadata": {},
   "outputs": [
    {
     "name": "stdout",
     "output_type": "stream",
     "text": [
      "[ 0  1  2  3  4  5  6  7  8  9 10 11 12 13 14 15 16 17 18 19 20 21 22 23\n",
      " 24 25 26 27 28 29 30 31 32 33 34 35 36 37 38 39 40 41 42 43 44 45 46 47\n",
      " 48 49 50 51 52 53 54 55 56 57 58 59 60 61 62 63 64 65 66 67 68 69 70 71\n",
      " 72 73 74 75 76 77 78 79 80 81 82 83 84 85 86 87 88 89 90 91 92 93 94 95\n",
      " 96 97 98 99]\n"
     ]
    }
   ],
   "source": [
    "b=np.arange(100)\n",
    "print(b)"
   ]
  },
  {
   "cell_type": "code",
   "execution_count": 26,
   "metadata": {},
   "outputs": [
    {
     "name": "stdout",
     "output_type": "stream",
     "text": [
      "[32 67 24 98 38]\n"
     ]
    }
   ],
   "source": [
    "lst=(32,67,24,98,38)\n",
    "c=np.array(lst)\n",
    "print(c)"
   ]
  },
  {
   "cell_type": "code",
   "execution_count": 31,
   "metadata": {},
   "outputs": [
    {
     "name": "stdout",
     "output_type": "stream",
     "text": [
      "['2018-06-15' '2018-06-16' '2018-06-17' '2018-06-18' '2018-06-19'\n",
      " '2018-06-20' '2018-06-21' '2018-06-22' '2018-06-23' '2018-06-24'\n",
      " '2018-06-25' '2018-06-26' '2018-06-27' '2018-06-28' '2018-06-29'\n",
      " '2018-06-30']\n"
     ]
    }
   ],
   "source": [
    "import numpy as np\n",
    "d=np.arange(np.datetime64('2018-06-15'),np.datetime64(\"2018-07-01\"))\n",
    "print(d)"
   ]
  },
  {
   "cell_type": "code",
   "execution_count": 33,
   "metadata": {},
   "outputs": [
    {
     "name": "stdout",
     "output_type": "stream",
     "text": [
      "[[1 2 3]\n",
      " [4 5 6]]\n"
     ]
    }
   ],
   "source": [
    "arr=np.array([[1,2,3],[4,5,6]])\n",
    "print(arr)"
   ]
  },
  {
   "cell_type": "code",
   "execution_count": 46,
   "metadata": {},
   "outputs": [
    {
     "name": "stdout",
     "output_type": "stream",
     "text": [
      "size of list is  36064\n"
     ]
    }
   ],
   "source": [
    "import sys\n",
    "lst=[x for x in range(1000)]\n",
    "arr=np.arange(1000)\n",
    "print(\"size of list is \",64+8*len(lst)+sys.getsizeof(3)*len(lst))\n"
   ]
  },
  {
   "cell_type": "code",
   "execution_count": 80,
   "metadata": {},
   "outputs": [
    {
     "name": "stdout",
     "output_type": "stream",
     "text": [
      "time taken 0.003999948501586914\n"
     ]
    },
    {
     "data": {
      "text/plain": [
       "range(0, 10000)"
      ]
     },
     "execution_count": 80,
     "metadata": {},
     "output_type": "execute_result"
    }
   ],
   "source": [
    "import time\n",
    "lst=range(10000)\n",
    "lst1=range(10000)\n",
    "start=time.time()\n",
    "lst2=[x+y for x,y in zip(lst,lst1)]\n",
    "print(\"time taken\",time.time()-start)\n",
    "lst"
   ]
  },
  {
   "cell_type": "code",
   "execution_count": 81,
   "metadata": {},
   "outputs": [
    {
     "name": "stdout",
     "output_type": "stream",
     "text": [
      "time taken by array is 0.0\n"
     ]
    },
    {
     "data": {
      "text/plain": [
       "array([    0,     2,     4, ..., 19994, 19996, 19998])"
      ]
     },
     "execution_count": 81,
     "metadata": {},
     "output_type": "execute_result"
    }
   ],
   "source": [
    "a=np.arange(10000)\n",
    "b=np.arange(10000)\n",
    "start=time.time()\n",
    "c=a+b\n",
    "print(\"time taken by array is\",time.time()-start)\n",
    "c\n"
   ]
  },
  {
   "cell_type": "code",
   "execution_count": 73,
   "metadata": {},
   "outputs": [
    {
     "name": "stdout",
     "output_type": "stream",
     "text": [
      "int32\n"
     ]
    }
   ],
   "source": [
    "lst=[1,2,3,4,5]\n",
    "a=np.array(lst)\n",
    "print(a.dtype)"
   ]
  },
  {
   "cell_type": "code",
   "execution_count": 87,
   "metadata": {},
   "outputs": [
    {
     "name": "stdout",
     "output_type": "stream",
     "text": [
      "int8\n",
      "[ 0.  1.  2. ... 13. 14. 15.]\n",
      "<class 'numpy.ndarray'>\n"
     ]
    }
   ],
   "source": [
    "a=np.array(lst,dtype=\"int8\")\n",
    "print(a.dtype)\n",
    "print(a.astype(\"float\"))  \n",
    "print(type(a))#to change type of elements"
   ]
  },
  {
   "cell_type": "code",
   "execution_count": 79,
   "metadata": {},
   "outputs": [
    {
     "name": "stdout",
     "output_type": "stream",
     "text": [
      "[12 'wsdsfs' 4.5 6.7]\n"
     ]
    }
   ],
   "source": [
    "lst1=[12,\"wsdsfs\",4.5,6.7]\n",
    "arr=np.array(lst1,dtype=\"object\")\n",
    "print(arr)"
   ]
  },
  {
   "cell_type": "code",
   "execution_count": 100,
   "metadata": {},
   "outputs": [
    {
     "name": "stdout",
     "output_type": "stream",
     "text": [
      "[(101, b'shalini', 345.) (102, b'nidhi', 412.) (103, b'atul', 327.)]\n"
     ]
    }
   ],
   "source": [
    "dtypes=[(\"rollno\",'int'),(\"name\",\"S10\"),(\"marks\",\"float\")]\n",
    "values=[(101,\"shalini\",345),(102,\"nidhi\",412),(103,\"atul\",327)]\n",
    "arr=np.array(values,dtypes)\n",
    "print(arr)"
   ]
  },
  {
   "cell_type": "code",
   "execution_count": 90,
   "metadata": {},
   "outputs": [
    {
     "name": "stdout",
     "output_type": "stream",
     "text": [
      "maximum for array 9\n",
      "minimum for array 1\n",
      "mean is 5.0\n"
     ]
    }
   ],
   "source": [
    "arr=np.array([[1,2,3],[4,5,6],[7,8,9]])\n",
    "print(\"maximum for array\",arr.max())\n",
    "print(\"minimum for array\",arr.min())\n",
    "print(\"mean is\",arr.mean())"
   ]
  },
  {
   "cell_type": "code",
   "execution_count": 91,
   "metadata": {},
   "outputs": [
    {
     "name": "stdout",
     "output_type": "stream",
     "text": [
      "[[1.         1.41421356 1.73205081]\n",
      " [2.         2.23606798 2.44948974]\n",
      " [2.64575131 2.82842712 3.        ]]\n"
     ]
    }
   ],
   "source": [
    "print(np.sqrt(arr))"
   ]
  },
  {
   "cell_type": "code",
   "execution_count": 93,
   "metadata": {},
   "outputs": [
    {
     "name": "stdout",
     "output_type": "stream",
     "text": [
      "2.581988897471611\n"
     ]
    }
   ],
   "source": [
    "print(np.std(arr))"
   ]
  },
  {
   "cell_type": "code",
   "execution_count": 95,
   "metadata": {},
   "outputs": [
    {
     "name": "stdout",
     "output_type": "stream",
     "text": [
      "max element is at pos 8\n",
      "[[1 2]]\n"
     ]
    }
   ],
   "source": [
    "print(\"max element is at pos\",np.argmax(arr))\n",
    "print(arr[0:1,0:2])"
   ]
  },
  {
   "cell_type": "code",
   "execution_count": 97,
   "metadata": {},
   "outputs": [
    {
     "name": "stdout",
     "output_type": "stream",
     "text": [
      "[[1 2]\n",
      " [4 5]\n",
      " [7 8]]\n"
     ]
    }
   ],
   "source": [
    "a=arr[:,0:2]\n",
    "print(a)"
   ]
  },
  {
   "cell_type": "code",
   "execution_count": 104,
   "metadata": {},
   "outputs": [
    {
     "name": "stdout",
     "output_type": "stream",
     "text": [
      "[[1 2]\n",
      " [4 5]]\n",
      "[[ 1  2 39]\n",
      " [ 4  5  6]\n",
      " [ 7  0  9]]\n",
      "[[ 1 47]\n",
      " [ 4  5]]\n"
     ]
    }
   ],
   "source": [
    "arr=np.array([[1,2,39],[4,5,6],[7,0,9]])\n",
    "a=arr[0:2,0:2].copy()\n",
    "print(a)\n",
    "print(arr)\n",
    "a[0][1]=47\n",
    "print(a)"
   ]
  },
  {
   "cell_type": "code",
   "execution_count": 109,
   "metadata": {},
   "outputs": [
    {
     "name": "stdout",
     "output_type": "stream",
     "text": [
      "[[1 2]\n",
      " [3 4]\n",
      " [5 6]]\n"
     ]
    }
   ],
   "source": [
    "arr=np.array([[1,2,3],[4,5,6]])\n",
    "arr=arr.reshape(3,2)\n",
    "print(arr)"
   ]
  },
  {
   "cell_type": "code",
   "execution_count": 119,
   "metadata": {},
   "outputs": [
    {
     "name": "stdout",
     "output_type": "stream",
     "text": [
      "[1 2 3 4 5 6]\n"
     ]
    }
   ],
   "source": [
    "import numpy as np\n",
    "p=arr.flatten()             #convert to id array\n",
    "print(p)"
   ]
  },
  {
   "cell_type": "code",
   "execution_count": 120,
   "metadata": {},
   "outputs": [
    {
     "name": "stdout",
     "output_type": "stream",
     "text": [
      "[False False False False False  True  True  True  True]\n"
     ]
    }
   ],
   "source": [
    "x=np.arange(1,10)\n",
    "print(x>5)"
   ]
  },
  {
   "cell_type": "code",
   "execution_count": 121,
   "metadata": {},
   "outputs": [
    {
     "name": "stdout",
     "output_type": "stream",
     "text": [
      "[[45 78 89]]\n"
     ]
    }
   ],
   "source": [
    "x=np.array([12,45,23,78,23,89])\n",
    "idx=np.where(x>40)\n",
    "print(x.take(idx))"
   ]
  },
  {
   "cell_type": "code",
   "execution_count": 122,
   "metadata": {},
   "outputs": [
    {
     "name": "stdout",
     "output_type": "stream",
     "text": [
      "[[1 3 5 7 9]]\n"
     ]
    }
   ],
   "source": [
    "x=np.arange(1,10)\n",
    "out=x.take(np.where(x%2==1))\n",
    "print(out)"
   ]
  },
  {
   "cell_type": "code",
   "execution_count": 126,
   "metadata": {},
   "outputs": [
    {
     "name": "stdout",
     "output_type": "stream",
     "text": [
      "[0 2 0 4 0 6 0 8 0]\n"
     ]
    }
   ],
   "source": [
    "x=np.arange(1,10)\n",
    "out=(np.where(x%2==1,0,x))\n",
    "print(out)"
   ]
  },
  {
   "cell_type": "code",
   "execution_count": 129,
   "metadata": {},
   "outputs": [
    {
     "name": "stdout",
     "output_type": "stream",
     "text": [
      "[23 56 12 23 56 12 23 56 12]\n",
      "[23 23 23 56 56 56 12 12 12]\n"
     ]
    }
   ],
   "source": [
    "#matplotlib\n",
    "x=[23,56,12]\n",
    "y=np.tile(x,3)\n",
    "print(y)\n",
    "z=np.repeat(x,3)\n",
    "print(z)"
   ]
  },
  {
   "cell_type": "code",
   "execution_count": 130,
   "metadata": {},
   "outputs": [
    {
     "data": {
      "text/plain": [
       "array([ 5, 12, 34, 90])"
      ]
     },
     "execution_count": 130,
     "metadata": {},
     "output_type": "execute_result"
    }
   ],
   "source": [
    "ar=np.array([12,34,5,90])\n",
    "np.sort(ar)"
   ]
  },
  {
   "cell_type": "code",
   "execution_count": 132,
   "metadata": {},
   "outputs": [
    {
     "data": {
      "text/plain": [
       "array([[12, 23, 56],\n",
       "       [18, 23, 45]])"
      ]
     },
     "execution_count": 132,
     "metadata": {},
     "output_type": "execute_result"
    }
   ],
   "source": [
    "arr=np.array([[23,12,56],[45,23,18]])\n",
    "np.sort(arr)\n"
   ]
  },
  {
   "cell_type": "code",
   "execution_count": 133,
   "metadata": {},
   "outputs": [
    {
     "data": {
      "text/plain": [
       "array([[23, 12, 18],\n",
       "       [45, 23, 56]])"
      ]
     },
     "execution_count": 133,
     "metadata": {},
     "output_type": "execute_result"
    }
   ],
   "source": [
    "arr=np.array([[23,12,56],[45,23,18]])\n",
    "np.sort(arr,axis=0)"
   ]
  },
  {
   "cell_type": "code",
   "execution_count": 135,
   "metadata": {},
   "outputs": [
    {
     "name": "stdout",
     "output_type": "stream",
     "text": [
      "[(b'raman', 31000, 1991) (b'richa',  3100, 2001) (b'richa', 23000, 1989)]\n"
     ]
    }
   ],
   "source": [
    "dtypes=[(\"names\",\"S10\"),(\"salary\",\"int\"),(\"yoj\",\"int\")]\n",
    "values=[(\"richa\",23000,1989),('raman',31000,1991),(\"richa\",3100,2001)]\n",
    "x=np.array(values,dtypes)\n",
    "t=np.sort(x,order='names')\n",
    "print(t)"
   ]
  },
  {
   "cell_type": "code",
   "execution_count": 14,
   "metadata": {},
   "outputs": [
    {
     "name": "stdout",
     "output_type": "stream",
     "text": [
      "[15 17  9 17  4 18 16 13  9 13]\n",
      "[ 4  9 13 15 16 17 18]\n",
      "[1 2 2 1 1 2 1]\n"
     ]
    }
   ],
   "source": [
    "import numpy as np\n",
    "x=np.random.randint(0,20,10)\n",
    "print(x)\n",
    "unq=np.unique(x)\n",
    "print(unq)\n",
    "#another method\n",
    "unq,cnt=np.unique(x,return_counts=True)\n",
    "print(cnt)"
   ]
  },
  {
   "cell_type": "code",
   "execution_count": 2,
   "metadata": {},
   "outputs": [
    {
     "name": "stdout",
     "output_type": "stream",
     "text": [
      "[['1' '10' '100' '1000']\n",
      " ['2' '20' '200' '2000']\n",
      " ['3' '30' '300' '3000']\n",
      " ['4' '40' '400' '4000']]\n"
     ]
    }
   ],
   "source": [
    "import numpy as np\n",
    "data=np.loadtxt(\"1.csv\",delimiter=\",\",skiprows=1,dtype=\"object\")\n",
    "print(data)"
   ]
  },
  {
   "cell_type": "code",
   "execution_count": 9,
   "metadata": {},
   "outputs": [
    {
     "name": "stdout",
     "output_type": "stream",
     "text": [
      "[[   1   10  100 1000]\n",
      " [   2   20  200 2000]\n",
      " [   3   30  300 3000]\n",
      " [   4   40  400 4000]]\n",
      "[[   1   10  100 1000]\n",
      " [   2   20  200 2000]\n",
      " [   3   30  300 3000]\n",
      " [   4   40  400 4000]]\n",
      "[[   1   10  100 1000]\n",
      " [   2   20  200 2000]\n",
      " [   3   30  300 3000]\n",
      " [   4   40  400 4000]]\n"
     ]
    }
   ],
   "source": [
    "data=np.genfromtxt(\"1.csv\",delimiter=\",\",skip_header=True,dtype=\"int\")\n",
    "print(data)\n",
    "data1=np.genfromtxt(\"1.csv\",delimiter=\",\",skip_header=True,dtype=\"int\",filling_values=\"0\")\n",
    "print(data1)\n",
    "#data[:,1]=57\n",
    "print(data)"
   ]
  },
  {
   "cell_type": "code",
   "execution_count": 8,
   "metadata": {},
   "outputs": [
    {
     "name": "stdout",
     "output_type": "stream",
     "text": [
      "['arr_0', 'arr_1', 'arr_2']\n",
      "[ 12  45 898  34   7   9]\n"
     ]
    }
   ],
   "source": [
    "import numpy as np\n",
    "x=np.array([12,45,898,34,7,9])\n",
    "y=np.array([34,25,46,78])\n",
    "z=np.array([12,45,78,9])\n",
    "np.savez(\"try.npz\",x,y,z)\n",
    "y=np.load(\"try.npz\")\n",
    "print(y.files)\n",
    "t=y[\"arr_0\"]\n",
    "print(t)\n"
   ]
  },
  {
   "cell_type": "code",
   "execution_count": 28,
   "metadata": {},
   "outputs": [
    {
     "data": {
      "image/png": "[encoded data removed]",
      "text/plain": [
       "<Figure size 432x288 with 1 Axes>"
      ]
     },
     "metadata": {},
     "output_type": "display_data"
    }
   ],
   "source": [
    "import numpy as np\n",
    "import matplotlib.patches as mpatches\n",
    "import matplotlib.pyplot as plt\n",
    "x=np.array([1,2,3,4,5,6])\n",
    "y=np.array([6,5,4,3,2,1])\n",
    "z=np.array([10,20,30,40,50,60])\n",
    "plt.plot(x,y)\n",
    "plt.plot(y,z)\n",
    "plt.title(\"first graph\")\n",
    "plt.xlabel(\"year\")\n",
    "plt.ylabel(\"no. of orders\")\n",
    "#orange_patch=mpatches.Patch(color=\"orange\",label=\"this is for orders\")\n",
    "#plt.legend(handles=[orange_patch])\n",
    "plt.legend([\"this is for orders\",\"this is for noc\"])\n",
    "plt.show()"
   ]
  },
  {
   "cell_type": "code",
   "execution_count": 4,
   "metadata": {},
   "outputs": [
    {
     "name": "stdout",
     "output_type": "stream",
     "text": [
      "[14 47 17  5  9]\n"
     ]
    }
   ],
   "source": [
    "import numpy as np\n",
    "x=np.array([12,45,15,3,7])\n",
    "x+=2                       #numpy array are vectorised same function on all elements\n",
    "print(x)"
   ]
  },
  {
   "cell_type": "code",
   "execution_count": 6,
   "metadata": {},
   "outputs": [
    {
     "name": "stdout",
     "output_type": "stream",
     "text": [
      "[23 56 89 56 78]\n"
     ]
    }
   ],
   "source": [
    "def fun(x,y):\n",
    "    if x>y:\n",
    "        return x\n",
    "    else:\n",
    "        return y\n",
    "t=np.array([23,56,89,12,34])\n",
    "t1=np.array([23,45,12,56,78])\n",
    "tx=np.vectorize(fun,otypes=[int])\n",
    "print(tx(t,t1))"
   ]
  },
  {
   "cell_type": "code",
   "execution_count": 9,
   "metadata": {},
   "outputs": [
    {
     "name": "stdout",
     "output_type": "stream",
     "text": [
      "[ 98.6  42.8 104.  107.6 140.  102.2]\n"
     ]
    }
   ],
   "source": [
    "def convert(x):\n",
    "    return(9*x)/5+32\n",
    "tem=np.array([37,6,40,42,60,39])\n",
    "t=np.vectorize(convert,otypes=[float])\n",
    "print(t(tem))"
   ]
  },
  {
   "cell_type": "code",
   "execution_count": 12,
   "metadata": {},
   "outputs": [
    {
     "name": "stdout",
     "output_type": "stream",
     "text": [
      "[43 65 -8 98 -7]\n"
     ]
    }
   ],
   "source": [
    "def cal(x,y):\n",
    "    if x>y:\n",
    "        return x+y\n",
    "    else:\n",
    "        return x-y\n",
    "p=np.array([23,45,12,78,13])\n",
    "t=np.vectorize(cal,otypes=[int])\n",
    "print(t(p,20))"
   ]
  },
  {
   "cell_type": "code",
   "execution_count": 19,
   "metadata": {},
   "outputs": [
    {
     "name": "stdout",
     "output_type": "stream",
     "text": [
      "[]\n"
     ]
    }
   ],
   "source": [
    "import matplotlib.pyplot as plt\n",
    "data=np.genfromtxt(\"1.csv\",delimiter=\",\",skip_header=1,dtype=\"int\")\n",
    "print(data[:0][:1])"
   ]
  },
  {
   "cell_type": "code",
   "execution_count": 27,
   "metadata": {},
   "outputs": [
    {
     "name": "stdout",
     "output_type": "stream",
     "text": [
      "[[   1   10  100 1000]\n",
      " [   2   20  200 2000]\n",
      " [   3   30  300 3000]\n",
      " [   4   40  400 4000]]\n"
     ]
    },
    {
     "data": {
      "image/png": "[encoded data removed]",
      "text/plain": [
       "<Figure size 432x288 with 1 Axes>"
      ]
     },
     "metadata": {},
     "output_type": "display_data"
    }
   ],
   "source": [
    "import numpy as np\n",
    "import matplotlib.pyplot as plt\n",
    "data=np.genfromtxt(\"1.csv\",delimiter=\",\",skip_header=1,dtype=\"int\")\n",
    "print(data)\n",
    "plt.plot(data[:,0],data[:,1])\n",
    "plt.title(\"orders per year\")\n",
    "plt.xlabel(\"year\")\n",
    "plt.ylabel(\"no of orders\")\n",
    "plt.legend([\"progress in order per decade\"])\n",
    "plt.savefig(\"records.png\")\n",
    "plt.show()"
   ]
  },
  {
   "cell_type": "code",
   "execution_count": 35,
   "metadata": {},
   "outputs": [
    {
     "name": "stdout",
     "output_type": "stream",
     "text": [
      "[2 3 4]\n",
      "[200 300 400]\n"
     ]
    }
   ],
   "source": [
    "x,y=np.loadtxt(\"1.csv\",delimiter=\",\",unpack=True,dtype=\"int\",usecols=[0,2],skiprows=2)\n",
    "print(x)\n",
    "print(y)"
   ]
  },
  {
   "cell_type": "code",
   "execution_count": 20,
   "metadata": {},
   "outputs": [
    {
     "name": "stdout",
     "output_type": "stream",
     "text": [
      "[0.  0.1 0.2 0.3 0.4 0.5 0.6 0.7 0.8 0.9 1.  1.1 1.2 1.3 1.4 1.5 1.6 1.7\n",
      " 1.8 1.9 2.  2.1 2.2 2.3 2.4 2.5 2.6 2.7 2.8 2.9 3.  3.1 3.2 3.3 3.4 3.5\n",
      " 3.6 3.7 3.8 3.9 4.  4.1 4.2 4.3 4.4 4.5 4.6 4.7 4.8 4.9 5.  5.1 5.2 5.3\n",
      " 5.4 5.5 5.6 5.7 5.8 5.9 6.  6.1 6.2 6.3 6.4 6.5 6.6 6.7 6.8 6.9 7.  7.1\n",
      " 7.2 7.3 7.4 7.5 7.6 7.7 7.8 7.9 8.  8.1 8.2 8.3 8.4 8.5 8.6 8.7 8.8 8.9\n",
      " 9.  9.1 9.2 9.3 9.4]\n",
      "[ 0.          0.09983342  0.19866933  0.29552021  0.38941834  0.47942554\n",
      "  0.56464247  0.64421769  0.71735609  0.78332691  0.84147098  0.89120736\n",
      "  0.93203909  0.96355819  0.98544973  0.99749499  0.9995736   0.99166481\n",
      "  0.97384763  0.94630009  0.90929743  0.86320937  0.8084964   0.74570521\n",
      "  0.67546318  0.59847214  0.51550137  0.42737988  0.33498815  0.23924933\n",
      "  0.14112001  0.04158066 -0.05837414 -0.15774569 -0.2555411  -0.35078323\n",
      " -0.44252044 -0.52983614 -0.61185789 -0.68776616 -0.7568025  -0.81827711\n",
      " -0.87157577 -0.91616594 -0.95160207 -0.97753012 -0.993691   -0.99992326\n",
      " -0.99616461 -0.98245261 -0.95892427 -0.92581468 -0.88345466 -0.83226744\n",
      " -0.77276449 -0.70554033 -0.63126664 -0.55068554 -0.46460218 -0.37387666\n",
      " -0.2794155  -0.1821625  -0.0830894   0.0168139   0.1165492   0.21511999\n",
      "  0.31154136  0.40484992  0.49411335  0.57843976  0.6569866   0.72896904\n",
      "  0.79366786  0.85043662  0.8987081   0.93799998  0.96791967  0.98816823\n",
      "  0.99854335  0.99894134  0.98935825  0.96988981  0.94073056  0.90217183\n",
      "  0.85459891  0.79848711  0.7343971   0.66296923  0.58491719  0.50102086\n",
      "  0.41211849  0.31909836  0.22288991  0.12445442  0.02477543]\n"
     ]
    },
    {
     "data": {
      "image/png": "[encoded data removed]",
      "text/plain": [
       "<Figure size 432x288 with 1 Axes>"
      ]
     },
     "metadata": {},
     "output_type": "display_data"
    }
   ],
   "source": [
    "x=np.arange(0,3*np.pi,0.1)\n",
    "y=np.sin(x)\n",
    "print(x)\n",
    "print(y)\n",
    "plt.plot(x,y)\n",
    "plt.show()"
   ]
  },
  {
   "cell_type": "code",
   "execution_count": 22,
   "metadata": {},
   "outputs": [
    {
     "data": {
      "image/png": "[encoded data removed]",
      "text/plain": [
       "<Figure size 432x288 with 1 Axes>"
      ]
     },
     "metadata": {},
     "output_type": "display_data"
    }
   ],
   "source": [
    "x=np.random.rand(100)\n",
    "y=np.random.rand(100)\n",
    "plt.scatter(x,y)\n",
    "plt.show()"
   ]
  },
  {
   "cell_type": "code",
   "execution_count": null,
   "metadata": {},
   "outputs": [],
   "source": [
    "x=np.random.rand(100)\n",
    "y=np.random.rand(100)\n",
    "plt.scatter(x,y)\n",
    "plt.show()"
   ]
  },
  {
   "cell_type": "code",
   "execution_count": 29,
   "metadata": {},
   "outputs": [
    {
     "data": {
      "image/png": "[encoded data removed]",
      "text/plain": [
       "<Figure size 432x288 with 1 Axes>"
      ]
     },
     "metadata": {},
     "output_type": "display_data"
    }
   ],
   "source": [
    "x=np.random.rand(0,1,1024)\n",
    "y=np.random.rand(30)\n",
    "plt.scatter(x,y)\n",
    "plt.show()"
   ]
  },
  {
   "cell_type": "code",
   "execution_count": 34,
   "metadata": {},
   "outputs": [
    {
     "data": {
      "image/png": "[encoded data removed]",
      "text/plain": [
       "<Figure size 432x288 with 1 Axes>"
      ]
     },
     "metadata": {},
     "output_type": "display_data"
    }
   ],
   "source": [
    "x=np.random.randint(0,100,10)\n",
    "y=np.random.randint(0,100,10)\n",
    "plt.scatter(x,y)\n",
    "plt.show()"
   ]
  },
  {
   "cell_type": "code",
   "execution_count": 2,
   "metadata": {},
   "outputs": [
    {
     "data": {
      "text/plain": [
       "<matplotlib.legend.Legend at 0x3d95694278>"
      ]
     },
     "execution_count": 2,
     "metadata": {},
     "output_type": "execute_result"
    },
    {
     "data": {
      "image/png": "[encoded data removed]",
      "text/plain": [
       "<Figure size 432x288 with 1 Axes>"
      ]
     },
     "metadata": {},
     "output_type": "display_data"
    }
   ],
   "source": [
    "import numpy as np\n",
    "import matplotlib.pyplot as plt\n",
    "z=np.random.randint(1,100,3)\n",
    "plt.pie(z)\n",
    "\n",
    "plt.legend([\"english\",\"maths\",\"chemistry\"])"
   ]
  },
  {
   "cell_type": "code",
   "execution_count": null,
   "metadata": {},
   "outputs": [],
   "source": []
  }
 ],
 "metadata": {
  "kernelspec": {
   "display_name": "Python 3",
   "language": "python",
   "name": "python3"
  },
  "language_info": {
   "codemirror_mode": {
    "name": "ipython",
    "version": 3
   },
   "file_extension": ".py",
   "mimetype": "text/x-python",
   "name": "python",
   "nbconvert_exporter": "python",
   "pygments_lexer": "ipython3",
   "version": "3.6.5"
  }
 },
 "nbformat": 4,
 "nbformat_minor": 2
}
