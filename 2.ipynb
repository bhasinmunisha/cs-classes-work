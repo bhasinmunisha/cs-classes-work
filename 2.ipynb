{
 "cells": [
  {
   "cell_type": "code",
   "execution_count": 1,
   "metadata": {},
   "outputs": [
    {
     "name": "stdout",
     "output_type": "stream",
     "text": [
      "enter num110\n",
      "enter num220\n",
      "enter num330\n",
      "30 is greatest\n"
     ]
    }
   ],
   "source": [
    "#program to input three numbers and find there greatest\n",
    "a=(int)(input(\"enter num1\"))\n",
    "b=(int)(input(\"enter num2\"))\n",
    "c=(int)(input(\"enter num3\"))\n",
    "if(a>b and a>c):\n",
    "    print(a,\"is greatest\")\n",
    "elif(b>a and b>c):\n",
    "    print(b,\"is greatest\")\n",
    "elif(c>a and c>b):\n",
    "    print(c,\"is greatest\")"
   ]
  },
  {
   "cell_type": "code",
   "execution_count": 2,
   "metadata": {},
   "outputs": [
    {
     "name": "stdout",
     "output_type": "stream",
     "text": [
      "1907584352\n",
      "1907584352\n"
     ]
    }
   ],
   "source": [
    "#identifiers\n",
    "a=10\n",
    "b=10\n",
    "print(id(a))\n",
    "print(id(b))"
   ]
  },
  {
   "cell_type": "code",
   "execution_count": 3,
   "metadata": {},
   "outputs": [
    {
     "name": "stdout",
     "output_type": "stream",
     "text": [
      "true\n"
     ]
    }
   ],
   "source": [
    "#identity operators\n",
    "a=10\n",
    "b=10\n",
    "if(a is b):\n",
    "    print(\"true\")\n",
    "else:\n",
    "    print(\"false\")\n",
    "    \n",
    "    \n",
    "    "
   ]
  },
  {
   "cell_type": "code",
   "execution_count": 4,
   "metadata": {},
   "outputs": [
    {
     "name": "stdout",
     "output_type": "stream",
     "text": [
      "583876982408\n",
      "583876982792\n",
      "false\n"
     ]
    }
   ],
   "source": [
    "list1=[1,2,3,4,5,6]\n",
    "list2=[1,2,3,4,5,6]\n",
    "print(id(list1))\n",
    "print(id(list2))\n",
    "if(list1 is list2):\n",
    "    print(\"true\")\n",
    "else:\n",
    "    print(\"false\")"
   ]
  },
  {
   "cell_type": "code",
   "execution_count": 5,
   "metadata": {},
   "outputs": [
    {
     "name": "stdout",
     "output_type": "stream",
     "text": [
      "not found in list\n"
     ]
    }
   ],
   "source": [
    "#membership operators\n",
    "list=[1,2,3,4,5]\n",
    "num=6\n",
    "if(num in list):\n",
    "    print(\"found in list\")\n",
    "else:\n",
    "    print(\"not found in list\")"
   ]
  },
  {
   "cell_type": "code",
   "execution_count": 6,
   "metadata": {},
   "outputs": [
    {
     "name": "stdout",
     "output_type": "stream",
     "text": [
      "<class 'str'>\n",
      "HELLO\n",
      "hello\n",
      "False\n",
      "True\n",
      "True\n",
      "Hello\n",
      "Hello\n",
      "**hello***\n",
      "hello\n",
      "1\n",
      "ahellobhelloc\n"
     ]
    }
   ],
   "source": [
    "str=\"hello\"\n",
    "print(type(str))\n",
    "print(str.upper())\n",
    "print(str.lower())\n",
    "print(str.isnumeric())\n",
    "print(str.isalpha())\n",
    "print(str.isalnum())\n",
    "print(str.title())\n",
    "print(str.capitalize())\n",
    "#center takes two arguments,width-length of string with padded character,fillchar(optional)-padding character\n",
    "print(str.center(10,\"*\"))\n",
    "print(str.casefold())\n",
    "print(str.count(\"el\"))\n",
    "print(str.join(\"abc\"))"
   ]
  },
  {
   "cell_type": "code",
   "execution_count": 7,
   "metadata": {},
   "outputs": [
    {
     "name": "stdout",
     "output_type": "stream",
     "text": [
      "['this', 'is', 'good', 'day']\n",
      "thare are good day\n",
      "2\n"
     ]
    }
   ],
   "source": [
    "s=\"this is good day\"\n",
    "print(s.split(\" \"))\n",
    "print(s.replace(\"is\",\"are\"))\n",
    "print(s.find(\"is\"))"
   ]
  },
  {
   "cell_type": "code",
   "execution_count": 8,
   "metadata": {},
   "outputs": [
    {
     "name": "stdout",
     "output_type": "stream",
     "text": [
      "i\n",
      "is i\n",
      "this i\n",
      "aidni si siht\n"
     ]
    }
   ],
   "source": [
    "str=\"this is india\"\n",
    "print(str[2])\n",
    "print(str[2:6])\n",
    "print(str[:6])\n",
    "print(str[::-1])"
   ]
  },
  {
   "cell_type": "code",
   "execution_count": 9,
   "metadata": {},
   "outputs": [
    {
     "name": "stdout",
     "output_type": "stream",
     "text": [
      "enter stringthis is\n",
      "enter position to remove2\n",
      "ths is\n"
     ]
    }
   ],
   "source": [
    "#wap to remove a character from string\n",
    "str=input(\"enter string\")\n",
    "p=(int)(input(\"enter position to remove\"))\n",
    "str1=str[0:p]+str[p+1:]\n",
    "print (str1)\n"
   ]
  },
  {
   "cell_type": "code",
   "execution_count": 11,
   "metadata": {},
   "outputs": [
    {
     "name": "stdout",
     "output_type": "stream",
     "text": [
      "held\n"
     ]
    }
   ],
   "source": [
    "#wap to form a string using first 2 and last 2 character of a given string\n",
    "str=\"hello world\"\n",
    "str=str[0:2]+str[-2:] \n",
    "print (str)"
   ]
  },
  {
   "cell_type": "code",
   "execution_count": null,
   "metadata": {},
   "outputs": [],
   "source": []
  },
  {
   "cell_type": "code",
   "execution_count": null,
   "metadata": {},
   "outputs": [],
   "source": []
  }
 ],
 "metadata": {
  "kernelspec": {
   "display_name": "Python 3",
   "language": "python",
   "name": "python3"
  },
  "language_info": {
   "codemirror_mode": {
    "name": "ipython",
    "version": 3
   },
   "file_extension": ".py",
   "mimetype": "text/x-python",
   "name": "python",
   "nbconvert_exporter": "python",
   "pygments_lexer": "ipython3",
   "version": "3.6.5"
  }
 },
 "nbformat": 4,
 "nbformat_minor": 2
}
