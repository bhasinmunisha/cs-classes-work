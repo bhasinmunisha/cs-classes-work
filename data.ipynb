{
 "cells": [
  {
   "cell_type": "code",
   "execution_count": 2,
   "metadata": {},
   "outputs": [
    {
     "name": "stdout",
     "output_type": "stream",
     "text": [
      "['', 'C:\\\\Users\\\\hp\\\\Desktop\\\\python1', 'C:\\\\Users\\\\hp\\\\Anaconda3\\\\python36.zip', 'C:\\\\Users\\\\hp\\\\Anaconda3\\\\DLLs', 'C:\\\\Users\\\\hp\\\\Anaconda3\\\\lib', 'C:\\\\Users\\\\hp\\\\Anaconda3', 'C:\\\\Users\\\\hp\\\\Anaconda3\\\\lib\\\\site-packages', 'C:\\\\Users\\\\hp\\\\Anaconda3\\\\lib\\\\site-packages\\\\win32', 'C:\\\\Users\\\\hp\\\\Anaconda3\\\\lib\\\\site-packages\\\\win32\\\\lib', 'C:\\\\Users\\\\hp\\\\Anaconda3\\\\lib\\\\site-packages\\\\Pythonwin', 'C:\\\\Users\\\\hp\\\\Anaconda3\\\\lib\\\\site-packages\\\\IPython\\\\extensions', 'C:\\\\Users\\\\hp\\\\.ipython']\n"
     ]
    }
   ],
   "source": [
    "import sys\n",
    "print(sys.path)"
   ]
  },
  {
   "cell_type": "code",
   "execution_count": 1,
   "metadata": {},
   "outputs": [],
   "source": [
    "from database import read_db_config\n",
    "from mysql.connector import MySQLConnection,Error"
   ]
  },
  {
   "cell_type": "code",
   "execution_count": 21,
   "metadata": {},
   "outputs": [
    {
     "name": "stdout",
     "output_type": "stream",
     "text": [
      "1045 (28000): Access denied for user 'root'@'localhost' (using password: NO)\n"
     ]
    }
   ],
   "source": [
    "from database import read_db_config\n",
    "from mysql.connector import MySQLConnection,Error\n",
    "def inemp(enam,eadd,esal):\n",
    "    try:\n",
    "        db=read_db_config()\n",
    "        con=MySQLConnection(**db)\n",
    "        cursor=con.cursor()\n",
    "        qry=\"insert into tbemp(empname,empadd,esal)values(%s,%s,%s)\"\n",
    "        args=(empname,empadd,empsal)\n",
    "        cursor.execute(qry,args)\n",
    "        con.commit()\n",
    "        cursor.close()\n",
    "        con.close()\n",
    "    except Error as e:\n",
    "        print(e)\n",
    "    #finally:\n",
    "        #cursor.close()\n",
    "        #con.close()\n",
    "if __name__==\"__main__\":\n",
    "    inemp(\"munisha\",\"ssss\",\"23000\")"
   ]
  },
  {
   "cell_type": "code",
   "execution_count": null,
   "metadata": {},
   "outputs": [],
   "source": []
  }
 ],
 "metadata": {
  "kernelspec": {
   "display_name": "Python 3",
   "language": "python",
   "name": "python3"
  },
  "language_info": {
   "codemirror_mode": {
    "name": "ipython",
    "version": 3
   },
   "file_extension": ".py",
   "mimetype": "text/x-python",
   "name": "python",
   "nbconvert_exporter": "python",
   "pygments_lexer": "ipython3",
   "version": "3.6.5"
  }
 },
 "nbformat": 4,
 "nbformat_minor": 2
}
