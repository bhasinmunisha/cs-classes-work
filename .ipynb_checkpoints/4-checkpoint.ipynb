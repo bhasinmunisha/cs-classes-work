{
 "cells": [
  {
   "cell_type": "code",
   "execution_count": 1,
   "metadata": {},
   "outputs": [
    {
     "name": "stdout",
     "output_type": "stream",
     "text": [
      "enter no10,20,30\n",
      "enter no90,80,70\n",
      "[10, 20, 30, 70, 80, 90]\n"
     ]
    }
   ],
   "source": [
    "a=[]\n",
    "b=[]\n",
    "c=[]\n",
    "a=[int(x) for x in input(\"enter no\").split(\",\")]\n",
    "b=[int(x) for x in input(\"enter no\").split(\",\")]\n",
    "c=a+b \n",
    "c.sort() \n",
    "print(c)"
   ]
  },
  {
   "cell_type": "code",
   "execution_count": 2,
   "metadata": {},
   "outputs": [
    {
     "name": "stdout",
     "output_type": "stream",
     "text": [
      "[89, 34, 67, 32, 12]\n"
     ]
    }
   ],
   "source": [
    "#was to input a list and swap first and last term\n",
    "a=[12,34,67,32,89]\n",
    "t=a[0]\n",
    "a[0]=a[len(a)-1]\n",
    "a[len(a)-1]=t\n",
    "print(a)\n"
   ]
  },
  {
   "cell_type": "code",
   "execution_count": 3,
   "metadata": {},
   "outputs": [
    {
     "name": "stdout",
     "output_type": "stream",
     "text": [
      "[12, 34, 67, 32, 89]\n"
     ]
    }
   ],
   "source": [
    "#another method\n",
    "l=len(a)\n",
    "a[0],a[l-1]=a[l-1],a[0]\n",
    "print(a)"
   ]
  },
  {
   "cell_type": "code",
   "execution_count": 4,
   "metadata": {},
   "outputs": [
    {
     "name": "stdout",
     "output_type": "stream",
     "text": [
      "100\n",
      "36\n"
     ]
    }
   ],
   "source": [
    "#perfect square\n",
    "import math\n",
    "a=[100,87,36,45,67,71]\n",
    "for x in a:\n",
    "    t=math.sqrt(x)\n",
    "    if(t-math.floor(t)==0):\n",
    "        print(x)"
   ]
  },
  {
   "cell_type": "code",
   "execution_count": 6,
   "metadata": {},
   "outputs": [
    {
     "name": "stdout",
     "output_type": "stream",
     "text": [
      "enter sentencefffff\n",
      "enter sentence\n",
      "['FFFFF']\n"
     ]
    }
   ],
   "source": [
    "lst=[]\n",
    "while(True):\n",
    "    sen=input(\"enter sentence\")\n",
    "    if(sen):\n",
    "        lst.append(sen.upper())\n",
    "    else:\n",
    "        break\n",
    "print(lst)        "
   ]
  },
  {
   "cell_type": "code",
   "execution_count": 9,
   "metadata": {},
   "outputs": [
    {
     "name": "stdout",
     "output_type": "stream",
     "text": [
      "enter data100,101\n",
      "4\n",
      "5\n",
      "hexadecimal no is 0x5\n",
      "octal no is  0o5\n",
      "binary is  0b101\n"
     ]
    }
   ],
   "source": [
    "#was which accept binary numbers in comma seprated input and print their decimal equivalence\n",
    "lst=[x for x in input(\"enter data\").split(\",\")]\n",
    "for x in lst:\n",
    "    d=int(x,2)\n",
    "    print(d)\n",
    "print(\"hexadecimal no is\",hex(d))\n",
    "print(\"octal no is \",oct(d))\n",
    "print(\"binary is \",bin(d))"
   ]
  },
  {
   "cell_type": "code",
   "execution_count": 16,
   "metadata": {},
   "outputs": [
    {
     "name": "stdout",
     "output_type": "stream",
     "text": [
      "enter limit3\n",
      "['p1', 'q1', 'r1', 'p2', 'q2', 'r2', 'p3', 'q3', 'r3']\n"
     ]
    }
   ],
   "source": [
    "#p q r\n",
    "lst=['p','q','r']\n",
    "n=(int)(input(\"enter limit\"))\n",
    "new_lst=[\"{}{}\".format(x,y) for y in range(1,n+1) for x in lst]\n",
    "print(new_lst)"
   ]
  },
  {
   "cell_type": "code",
   "execution_count": 5,
   "metadata": {},
   "outputs": [
    {
     "name": "stdout",
     "output_type": "stream",
     "text": [
      "enter limit3\n",
      "['p1', 'p2', 'p3', 'q1', 'q2', 'q3', 'r1', 'r2', 'r3']\n"
     ]
    }
   ],
   "source": [
    "lst=['p','q','r']\n",
    "n=(int)(input(\"enter limit\"))\n",
    "my_lst=[]\n",
    "for y in lst:\n",
    "    for x in range(1,n+1):\n",
    "         my_lst.append(\"{}{}\".format(y,x))\n",
    "print(my_lst)            \n",
    "            "
   ]
  },
  {
   "cell_type": "code",
   "execution_count": 9,
   "metadata": {},
   "outputs": [
    {
     "name": "stdout",
     "output_type": "stream",
     "text": [
      "enter stringi ami,i am heere i\n",
      "i ami\n",
      "i am heere i\n"
     ]
    }
   ],
   "source": [
    "#was to input string in a list and print those string whose length>2 and first and last character match\n",
    "lst=[x for x in input(\"enter string\").split(\",\")]\n",
    "for x in lst:\n",
    "    if len(x)>2 and x[0]==x[len(x)-1]:\n",
    "        print(x)"
   ]
  },
  {
   "cell_type": "code",
   "execution_count": 11,
   "metadata": {},
   "outputs": [
    {
     "name": "stdout",
     "output_type": "stream",
     "text": [
      "a\n",
      "b\n",
      "c\n",
      "d\n"
     ]
    }
   ],
   "source": [
    "lst=[\"a\",\"b\",\"c\",\"d\"]\n",
    "for x in enumerate(lst):#return tuple\n",
    "    print(x)"
   ]
  },
  {
   "cell_type": "code",
   "execution_count": 13,
   "metadata": {},
   "outputs": [
    {
     "name": "stdout",
     "output_type": "stream",
     "text": [
      "0 a\n",
      "1 b\n",
      "2 c\n",
      "3 d\n"
     ]
    }
   ],
   "source": [
    "lst=[\"a\",\"b\",\"c\",\"d\"]\n",
    "for k,v in enumerate(lst):#return tuple\n",
    "    print(k,v)"
   ]
  },
  {
   "cell_type": "code",
   "execution_count": 14,
   "metadata": {},
   "outputs": [
    {
     "name": "stdout",
     "output_type": "stream",
     "text": [
      "['c', 'd']\n"
     ]
    }
   ],
   "source": [
    "#create a new list that contain all elements of existing lists except index 0,1,9\n",
    "list=[\"a\",\"b\",\"c\",\"d\"]\n",
    "new_lst=[]\n",
    "for k,v in enumerate(list):\n",
    "    if k not in(0,1,9):\n",
    "        new_lst.append(v)\n",
    "print(new_lst)        "
   ]
  },
  {
   "cell_type": "code",
   "execution_count": 19,
   "metadata": {},
   "outputs": [
    {
     "name": "stdout",
     "output_type": "stream",
     "text": [
      "['A', 'B', 'C', 'D', 'E', 'F', 'G', 'H', 'I', 'J', 'K', 'L', 'M', 'N', 'O', 'P', 'Q', 'R', 'S', 'T', 'U', 'V', 'W', 'X', 'Y', 'Z']\n"
     ]
    }
   ],
   "source": [
    "lst=[]\n",
    "for i in range (ord(\"A\"),ord(\"Z\")+1):\n",
    "    #ord is for getting ascii values\n",
    "    lst.append(chr(i))\n",
    "print(lst)    "
   ]
  },
  {
   "cell_type": "code",
   "execution_count": 22,
   "metadata": {},
   "outputs": [
    {
     "name": "stdout",
     "output_type": "stream",
     "text": [
      "what is 2+3 \n",
      "5\n",
      "what is 4*9\n",
      "36\n",
      "what is ascii of A\n",
      "65\n"
     ]
    }
   ],
   "source": [
    "qst=[\"what is 2+3 \",\"what is 4*9\",\"what is ascii of A\"]\n",
    "ans=[\"5\",\"36\",\"65\"]\n",
    "for x,y in zip(qst,ans):    #zip is used for unpacking the list\n",
    "    print(x)\n",
    "    print(y)"
   ]
  },
  {
   "cell_type": "code",
   "execution_count": 49,
   "metadata": {},
   "outputs": [
    {
     "name": "stdout",
     "output_type": "stream",
     "text": [
      " 1 2 3 \n",
      " 2 3 7 \n",
      " 4 5 8 \n"
     ]
    }
   ],
   "source": [
    "l=[[1,2,3],[2,3,7],[4,5,8]]\n",
    "for i in range(3):\n",
    "    s=\" \"\n",
    "    for j in range(3):\n",
    "        s=s+str(l[i][j])+\" \"\n",
    "    print(s)   \n",
    "    "
   ]
  },
  {
   "cell_type": "code",
   "execution_count": 53,
   "metadata": {},
   "outputs": [
    {
     "name": "stdout",
     "output_type": "stream",
     "text": [
      "enter dimension4,3\n",
      "4 3\n",
      "[[0, 0, 0], [0, 0, 0], [0, 0, 0], [0, 0, 0]]\n"
     ]
    }
   ],
   "source": [
    "#was to input dimension from user and generate a list\n",
    "dim=[int(x) for x in input(\"enter dimension\").split(\",\")]\n",
    "r=dim[0]\n",
    "c=dim[1]\n",
    "print(r,c)\n",
    "lst=[[0 for y in range(c)] for x in range(r)]\n",
    "print(lst)"
   ]
  },
  {
   "cell_type": "code",
   "execution_count": 3,
   "metadata": {},
   "outputs": [
    {
     "name": "stdout",
     "output_type": "stream",
     "text": [
      "(1, 2, 3, 4, 'abc')\n",
      "[1, 2, 3, 4, 'abc']\n",
      "(1,)\n"
     ]
    }
   ],
   "source": [
    "#tuple immmutable\n",
    "tup=1,2,3,4,'abc'\n",
    "print(tup)\n",
    "l=list(tup)\n",
    "print(l)\n",
    "tup=1,\n",
    "print(tup)"
   ]
  },
  {
   "cell_type": "code",
   "execution_count": 5,
   "metadata": {},
   "outputs": [
    {
     "name": "stdout",
     "output_type": "stream",
     "text": [
      "<class 'dict'>\n"
     ]
    }
   ],
   "source": [
    "#set unordered\n",
    "#doesn't allow duplicates\n",
    "s={}                             #default is dictionary\n",
    "print(type(s))"
   ]
  },
  {
   "cell_type": "code",
   "execution_count": 6,
   "metadata": {},
   "outputs": [
    {
     "name": "stdout",
     "output_type": "stream",
     "text": [
      "True\n"
     ]
    }
   ],
   "source": [
    "s=(\"abc\",\"xyz\",\"aaa\")\n",
    "st=\"xyz\"\n",
    "print(st in s)"
   ]
  },
  {
   "cell_type": "code",
   "execution_count": 8,
   "metadata": {},
   "outputs": [
    {
     "name": "stdout",
     "output_type": "stream",
     "text": [
      "{1, 2, 3}\n",
      "{4, 5}\n",
      "{1, 2, 3, 4, 5, 6, 7}\n",
      "{1, 2, 3, 6, 7}\n"
     ]
    }
   ],
   "source": [
    "s={1,2,3,4,5}\n",
    "s1={4,5,6,7}\n",
    "t=s-s1\n",
    "print(t)\n",
    "t1=s&s1\n",
    "print(t1)\n",
    "t2=s|s1\n",
    "print(t2)\n",
    "t3=s^s1\n",
    "print(t3)"
   ]
  },
  {
   "cell_type": "code",
   "execution_count": 10,
   "metadata": {},
   "outputs": [
    {
     "name": "stdout",
     "output_type": "stream",
     "text": [
      "{'abc': 49, 'xyz': 43, 'aaa': 60}\n",
      "dict_keys(['abc', 'xyz', 'aaa'])\n",
      "('abc', 49)\n",
      "('xyz', 43)\n",
      "('aaa', 60)\n",
      "keys is  abc\n",
      "value is  49\n",
      "keys is  xyz\n",
      "value is  43\n",
      "keys is  aaa\n",
      "value is  60\n"
     ]
    }
   ],
   "source": [
    "#dictionary\n",
    "d={\"abc\":49,\"xyz\":43,\"aaa\":60}\n",
    "print(d)\n",
    "print(d.keys())\n",
    "for x in d.items():\n",
    "    print(x)\n",
    "for k,v in d.items():\n",
    "    print(\"keys is \",k)\n",
    "    print(\"value is \",v)"
   ]
  },
  {
   "cell_type": "code",
   "execution_count": 13,
   "metadata": {},
   "outputs": [
    {
     "name": "stdout",
     "output_type": "stream",
     "text": [
      "{'HINDI': 90, 'english': 94, 'maths': 89}\n",
      "{'HINDI': 90, 'english': 100, 'maths': 89}\n",
      "{'HINDI': 90, 'english': 100}\n",
      "100\n"
     ]
    }
   ],
   "source": [
    "d1=dict([(\"HINDI\",90),(\"english\",94),(\"maths\",89)])\n",
    "print(d1)\n",
    "d1[\"english\"]=100                        #for updation\n",
    "print(d1)\n",
    "del(d1[\"maths\"])                          #for deletion\n",
    "print(d1)\n",
    "if\"english\" in d1:\n",
    "    print(d1[\"english\"])"
   ]
  },
  {
   "cell_type": "code",
   "execution_count": 3,
   "metadata": {},
   "outputs": [
    {
     "name": "stdout",
     "output_type": "stream",
     "text": [
      "{'xyz': 32, 'rrr': 45, 'www': 67}\n"
     ]
    }
   ],
   "source": [
    "d2=dict(xyz=32,rrr=45,www=67)         #only for string keys\n",
    "print(d2)"
   ]
  },
  {
   "cell_type": "code",
   "execution_count": 4,
   "metadata": {},
   "outputs": [
    {
     "name": "stdout",
     "output_type": "stream",
     "text": [
      "{1: 1, 2: 4, 3: 9, 4: 16, 5: 25, 6: 36, 7: 49, 8: 64, 9: 81, 10: 100}\n"
     ]
    }
   ],
   "source": [
    "d3={x:x**2 for x in range(1,11)}\n",
    "print(d3)"
   ]
  },
  {
   "cell_type": "code",
   "execution_count": 5,
   "metadata": {},
   "outputs": [
    {
     "name": "stdout",
     "output_type": "stream",
     "text": [
      "dict_keys(['abc', 'xyz', 'aaa'])\n"
     ]
    }
   ],
   "source": [
    "print(d.keys())"
   ]
  },
  {
   "cell_type": "code",
   "execution_count": 16,
   "metadata": {},
   "outputs": [
    {
     "name": "stdout",
     "output_type": "stream",
     "text": [
      "{'ones': [' ', 'one', 'two', 'three']}\n",
      "{'ones': [' ', 'one', 'two', 'three'], 'tens': [' ', ' ', ' twenty', ' thirty', 'fourty']}\n",
      "two hundred  thirty two\n"
     ]
    }
   ],
   "source": [
    "#number to words using dictionary\n",
    "words={}\n",
    "words[\"ones\"]=[\" \",\"one\",\"two\",\"three\"]\n",
    "print(words)\n",
    "words[\"tens\"]=[\" \",\" \",\" twenty\",\" thirty\",\"fourty\"]\n",
    "print(words)\n",
    "words[\"hun\"]=[\" \",\"one hundred\",\"two hundred\",\"three hundred\",\"four hundred\"]\n",
    "print(words[\"hun\"][2]+\" \"+words[\"tens\"][3]+\" \"+words[\"ones\"][2])\n"
   ]
  },
  {
   "cell_type": "code",
   "execution_count": 17,
   "metadata": {},
   "outputs": [
    {
     "name": "stdout",
     "output_type": "stream",
     "text": [
      "item1 320\n",
      "item2 540\n",
      "item3 125\n",
      "item4 700\n",
      "item5 312\n"
     ]
    }
   ],
   "source": [
    "shop={\"item1\":320,\"item2\":540,\"item3\":125,\"item4\":700,\"item5\":312}\n",
    "for k,v in shop.items():\n",
    "    print(k,v)"
   ]
  },
  {
   "cell_type": "code",
   "execution_count": 20,
   "metadata": {},
   "outputs": [
    {
     "name": "stdout",
     "output_type": "stream",
     "text": [
      "[('item4', 700), ('item2', 540), ('item1', 320), ('item5', 312), ('item3', 125)]\n"
     ]
    }
   ],
   "source": [
    "import collections\n",
    "from collections import Counter\n",
    "t=Counter(shop)\n",
    "print(t.most_common())"
   ]
  },
  {
   "cell_type": "code",
   "execution_count": 22,
   "metadata": {},
   "outputs": [
    {
     "name": "stdout",
     "output_type": "stream",
     "text": [
      "Counter({3: 3, 2: 2, 1: 1, 5: 1, 7: 1, 8: 1, 9: 1})\n"
     ]
    }
   ],
   "source": [
    "l=[1,2,5,2,7,3,8,3,9,3]\n",
    "r=Counter(l)\n",
    "print(r)"
   ]
  },
  {
   "cell_type": "code",
   "execution_count": 24,
   "metadata": {},
   "outputs": [
    {
     "name": "stdout",
     "output_type": "stream",
     "text": [
      "Counter({'a': 3, 's': 2, 'h': 2, 'i': 2, 'l': 1, 'n': 1, ' ': 1, 'r': 1, 'm': 1})\n"
     ]
    }
   ],
   "source": [
    "s=\"shalini sharma\"\n",
    "p=Counter(s)\n",
    "print(p)"
   ]
  },
  {
   "cell_type": "code",
   "execution_count": 25,
   "metadata": {},
   "outputs": [
    {
     "name": "stdout",
     "output_type": "stream",
     "text": [
      "a 3\n",
      "s 2\n"
     ]
    }
   ],
   "source": [
    "for k,v in p.most_common(2):\n",
    "    print(k,v)"
   ]
  },
  {
   "cell_type": "code",
   "execution_count": 42,
   "metadata": {},
   "outputs": [
    {
     "name": "stdout",
     "output_type": "stream",
     "text": [
      "{'avg': 77.0}\n",
      "{'aarav': {'tot', 77.0}}\n",
      "{'avg': 91.5}\n",
      "{'atul': {91.5, 'tot'}}\n"
     ]
    }
   ],
   "source": [
    "stu={\"aarav\":{\"ass1\":74,\"ass2\":80},\"atul\":{\"ass1\":89,\"ass2\":94}}\n",
    "for k,v in stu.items():\n",
    "    n=v.pop(\"ass1\")\n",
    "    n1=v.pop(\"ass2\")\n",
    "    v[\"avg\"]=(n+n1)/2\n",
    "    print(v)    \n",
    "    tot=0\n",
    "    for t,s in v.items():\n",
    "        stu={\"aarav\":{\"ass1\":74,\"ass2\":80},\"atul\":{\"ass1\":89,\"ass2\":94}}\n",
    "        tot=tot+s\n",
    "        del(v)\n",
    "        del(stu)\n",
    "        v=dict()\n",
    "        v[\"tot\"]=tot\n",
    "        res=dict()\n",
    "        res[k]={\"tot\",tot}\n",
    "    print(res)        \n",
    "        "
   ]
  },
  {
   "cell_type": "code",
   "execution_count": 1,
   "metadata": {},
   "outputs": [
    {
     "name": "stdout",
     "output_type": "stream",
     "text": [
      "my first function\n",
      "<function myfun at 0x0000009D069F0378>\n"
     ]
    }
   ],
   "source": [
    "#functions\n",
    "def myfun():\n",
    "    print(\"my first function\")\n",
    "myfun()\n",
    "print(myfun)"
   ]
  },
  {
   "cell_type": "code",
   "execution_count": 4,
   "metadata": {},
   "outputs": [
    {
     "name": "stdout",
     "output_type": "stream",
     "text": [
      "enter number to find factorial5\n",
      "factorial of  5 is 120\n"
     ]
    }
   ],
   "source": [
    "def fact(x):\n",
    "    f=1\n",
    "    for i in range(1,x+1):\n",
    "        f=f*i\n",
    "    return f\n",
    "n=(int)(input(\"enter number to find factorial\"))\n",
    "t=fact(n)\n",
    "print(\"factorial of \",n,\"is\",t)"
   ]
  },
  {
   "cell_type": "code",
   "execution_count": 4,
   "metadata": {},
   "outputs": [
    {
     "name": "stdout",
     "output_type": "stream",
     "text": [
      "enter 1 for addition\n",
      "enter 2 for subtraction\n",
      "enter 3 for multi\n",
      "enter 4 for division\n",
      "enter choice4\n",
      "enter number12\n",
      "enter number21\n",
      "2 / 1 = 2.0\n"
     ]
    }
   ],
   "source": [
    "def addition(a,b):\n",
    "    return a+b\n",
    "def sub(a,b):\n",
    "    return a-b\n",
    "def multi(a,b):\n",
    "    return a*b\n",
    "def div(a,b):\n",
    "    return a/b\n",
    "print(\"enter 1 for addition\")\n",
    "print(\"enter 2 for subtraction\")\n",
    "print(\"enter 3 for multi\")\n",
    "print(\"enter 4 for division\")\n",
    "n=(int)(input(\"enter choice\"))\n",
    "x=(int)(input(\"enter number1\"))\n",
    "y=(int)(input(\"enter number2\"))\n",
    "if(n==1):\n",
    "    print(x,\"+\",y,\"=\",addition(x,y))\n",
    "if(n==2):\n",
    "    print(x,\"-\",y,\"=\",sub(x,y))\n",
    "if(n==3):\n",
    "    print(x,\"*\",y,\"=\",multi(x,y))\n",
    "if(n==4):\n",
    "    print(x,\"/\",y,\"=\",div(x,y))    \n",
    "    "
   ]
  },
  {
   "cell_type": "code",
   "execution_count": 6,
   "metadata": {},
   "outputs": [
    {
     "name": "stdout",
     "output_type": "stream",
     "text": [
      "enter limit4\n",
      "[0, 1, 1, 2, 3]\n"
     ]
    }
   ],
   "source": [
    "def fibo(l):\n",
    "    a,b=0,1\n",
    "    lst=[]\n",
    "    lst.append(a)\n",
    "    lst.append(b)\n",
    "    for i in range (2,l+1):\n",
    "        c=a+b\n",
    "        lst.append(c)\n",
    "        a=b\n",
    "        b=c\n",
    "    return lst   \n",
    "n=(int)(input(\"enter limit\"))\n",
    "lst=fibo(n)\n",
    "print(lst)"
   ]
  },
  {
   "cell_type": "code",
   "execution_count": 17,
   "metadata": {},
   "outputs": [
    {
     "name": "stdout",
     "output_type": "stream",
     "text": [
      "string is palindrome\n"
     ]
    }
   ],
   "source": [
    "#wa function to check a string is palindrome or not\n",
    "def chkpallin(s):\n",
    "    i=0\n",
    "    j=len(s)-1\n",
    "    while(i<j):\n",
    "        if(s[i]!=s[j]):\n",
    "            return False\n",
    "        i=i+1\n",
    "        j=j-1\n",
    "    return True\n",
    "if(chkpallin(\"malayalam\")):\n",
    "    print(\"string is palindrome\")\n",
    "else:\n",
    "    print(\"string is not palindrome\")"
   ]
  },
  {
   "cell_type": "code",
   "execution_count": 21,
   "metadata": {},
   "outputs": [
    {
     "name": "stdout",
     "output_type": "stream",
     "text": [
      "vowel   0\n",
      "digits   4\n",
      "spaces   1\n"
     ]
    }
   ],
   "source": [
    "def mycount(st):\n",
    "    d={\"vowel\":0,\"digits\":0,\"spaces\":0}\n",
    "    vow=\"aeiouAEIOU\"\n",
    "    dig=\"0123456789\"\n",
    "    for s in st:\n",
    "        if s in vow:\n",
    "            d[\"vowels\"]+=1\n",
    "        elif s in dig:\n",
    "            d[\"digits\"]+=1\n",
    "        elif s==\" \":\n",
    "            d[\"spaces\"]+=1\n",
    "    return d        \n",
    "dic=mycount(\"sdsdf 1234\")\n",
    "for k,v in dic.items():\n",
    "    print(k,\" \",v)"
   ]
  },
  {
   "cell_type": "code",
   "execution_count": 23,
   "metadata": {},
   "outputs": [
    {
     "name": "stdout",
     "output_type": "stream",
     "text": [
      "79\n",
      "52\n"
     ]
    }
   ],
   "source": [
    "def sumdata(*num):\n",
    "    tot=0\n",
    "    for x in num:\n",
    "        tot+=x\n",
    "    return tot\n",
    "print(sumdata(23,56))\n",
    "print(sumdata(1,45,6))"
   ]
  },
  {
   "cell_type": "code",
   "execution_count": 24,
   "metadata": {},
   "outputs": [
    {
     "name": "stdout",
     "output_type": "stream",
     "text": [
      "53\n",
      "14\n"
     ]
    }
   ],
   "source": [
    "#default arguments\n",
    "def sumdata(a,b,c=0):\n",
    "    return a+b+c\n",
    "print(sumdata(2,51))\n",
    "print(sumdata(1,4,9))"
   ]
  },
  {
   "cell_type": "code",
   "execution_count": 31,
   "metadata": {},
   "outputs": [
    {
     "name": "stdout",
     "output_type": "stream",
     "text": [
      "['que']\n",
      "['que', 'asis']\n",
      "['que', 'asis', 'rrrr']\n"
     ]
    }
   ],
   "source": [
    "def myfun(a,l=[]):\n",
    "    l.append(a)\n",
    "    print(l)\n",
    "myfun(\"que\")\n",
    "myfun(\"asis\")\n",
    "myfun(\"rrrr\")"
   ]
  },
  {
   "cell_type": "code",
   "execution_count": 3,
   "metadata": {},
   "outputs": [
    {
     "name": "stdout",
     "output_type": "stream",
     "text": [
      "*****\n",
      "wwwwwwwwww\n"
     ]
    }
   ],
   "source": [
    "#named arguments\n",
    "def printer(chr,repeat):\n",
    "    print(chr*repeat)\n",
    "printer(chr=\"*\",repeat=5)\n",
    "printer(repeat=10,chr=\"w\")\n",
    "    \n",
    "    "
   ]
  },
  {
   "cell_type": "code",
   "execution_count": 5,
   "metadata": {},
   "outputs": [
    {
     "name": "stdout",
     "output_type": "stream",
     "text": [
      "10\n"
     ]
    }
   ],
   "source": [
    "#scope of a function\n",
    "x=1\n",
    "def fun():\n",
    "    #global x\n",
    "    x=10\n",
    "    print(x)\n",
    "fun()    \n",
    "    "
   ]
  },
  {
   "cell_type": "code",
   "execution_count": 9,
   "metadata": {},
   "outputs": [
    {
     "name": "stdout",
     "output_type": "stream",
     "text": [
      "7\n",
      "1\n"
     ]
    }
   ],
   "source": [
    "x=1\n",
    "def fun():\n",
    "    y=7\n",
    "    print(y)\n",
    "    print(x)\n",
    "fun() \n",
    "#print(y)    # name error y is not defind"
   ]
  },
  {
   "cell_type": "code",
   "execution_count": 10,
   "metadata": {},
   "outputs": [
    {
     "name": "stdout",
     "output_type": "stream",
     "text": [
      "5\n"
     ]
    }
   ],
   "source": [
    "x=1\n",
    "if(True):\n",
    "    x=5\n",
    "    print(x)"
   ]
  },
  {
   "cell_type": "code",
   "execution_count": 13,
   "metadata": {},
   "outputs": [
    {
     "name": "stdout",
     "output_type": "stream",
     "text": [
      "this is outer function\n",
      "this is inner function\n"
     ]
    }
   ],
   "source": [
    "#enclosing scope\n",
    "def fun1():\n",
    "    print(\"this is outer function\")\n",
    "    def fun2():\n",
    "        print(\"this is inner function\")\n",
    "    fun2()\n",
    "fun1()    \n",
    "# second function could not be called individually   \n",
    "    \n",
    "    "
   ]
  },
  {
   "cell_type": "code",
   "execution_count": 18,
   "metadata": {},
   "outputs": [
    {
     "name": "stdout",
     "output_type": "stream",
     "text": [
      "9\n"
     ]
    }
   ],
   "source": [
    "def myfunc1():\n",
    "    x=4\n",
    "    def myfunc2():\n",
    "        a=5\n",
    "        print(a+x)\n",
    "    myfunc2() \n",
    "myfunc1()   "
   ]
  },
  {
   "cell_type": "code",
   "execution_count": 20,
   "metadata": {},
   "outputs": [
    {
     "name": "stdout",
     "output_type": "stream",
     "text": [
      "4\n",
      "5\n"
     ]
    }
   ],
   "source": [
    "def abc():\n",
    "    m=4\n",
    "    def xyz():\n",
    "        m=5\n",
    "        print(m)\n",
    "    print(m)\n",
    "    xyz()\n",
    "abc()    \n",
    "    "
   ]
  },
  {
   "cell_type": "code",
   "execution_count": 95,
   "metadata": {},
   "outputs": [
    {
     "ename": "SyntaxError",
     "evalue": "invalid syntax (<ipython-input-95-8ccd00446675>, line 4)",
     "output_type": "error",
     "traceback": [
      "\u001b[1;36m  File \u001b[1;32m\"<ipython-input-95-8ccd00446675>\"\u001b[1;36m, line \u001b[1;32m4\u001b[0m\n\u001b[1;33m    nonlocal m=9\u001b[0m\n\u001b[1;37m              ^\u001b[0m\n\u001b[1;31mSyntaxError\u001b[0m\u001b[1;31m:\u001b[0m invalid syntax\n"
     ]
    }
   ],
   "source": [
    "def abc():\n",
    "    m=4\n",
    "    def xyz(): \n",
    "        nonlocal m=9\n",
    "        print(m)\n",
    "xyz()\n",
    "print(m)\n",
    "abc()        \n",
    "        \n",
    "        \n",
    "        "
   ]
  },
  {
   "cell_type": "code",
   "execution_count": 97,
   "metadata": {},
   "outputs": [
    {
     "name": "stdout",
     "output_type": "stream",
     "text": [
      "['ArithmeticError', 'AssertionError', 'AttributeError', 'BaseException', 'BlockingIOError', 'BrokenPipeError', 'BufferError', 'BytesWarning', 'ChildProcessError', 'ConnectionAbortedError', 'ConnectionError', 'ConnectionRefusedError', 'ConnectionResetError', 'DeprecationWarning', 'EOFError', 'Ellipsis', 'EnvironmentError', 'Exception', 'False', 'FileExistsError', 'FileNotFoundError', 'FloatingPointError', 'FutureWarning', 'GeneratorExit', 'IOError', 'ImportError', 'ImportWarning', 'IndentationError', 'IndexError', 'InterruptedError', 'IsADirectoryError', 'KeyError', 'KeyboardInterrupt', 'LookupError', 'MemoryError', 'ModuleNotFoundError', 'NameError', 'None', 'NotADirectoryError', 'NotImplemented', 'NotImplementedError', 'OSError', 'OverflowError', 'PendingDeprecationWarning', 'PermissionError', 'ProcessLookupError', 'RecursionError', 'ReferenceError', 'ResourceWarning', 'RuntimeError', 'RuntimeWarning', 'StopAsyncIteration', 'StopIteration', 'SyntaxError', 'SyntaxWarning', 'SystemError', 'SystemExit', 'TabError', 'TimeoutError', 'True', 'TypeError', 'UnboundLocalError', 'UnicodeDecodeError', 'UnicodeEncodeError', 'UnicodeError', 'UnicodeTranslateError', 'UnicodeWarning', 'UserWarning', 'ValueError', 'Warning', 'WindowsError', 'ZeroDivisionError', '__IPYTHON__', '__build_class__', '__debug__', '__doc__', '__import__', '__loader__', '__name__', '__package__', '__spec__', 'abs', 'all', 'any', 'ascii', 'bin', 'bool', 'bytearray', 'bytes', 'callable', 'chr', 'classmethod', 'compile', 'complex', 'copyright', 'credits', 'delattr', 'dict', 'dir', 'display', 'divmod', 'enumerate', 'eval', 'exec', 'filter', 'float', 'format', 'frozenset', 'get_ipython', 'getattr', 'globals', 'hasattr', 'hash', 'help', 'hex', 'id', 'input', 'int', 'isinstance', 'issubclass', 'iter', 'len', 'license', 'list', 'locals', 'map', 'max', 'memoryview', 'min', 'next', 'object', 'oct', 'open', 'ord', 'pow', 'print', 'property', 'range', 'repr', 'reversed', 'round', 'set', 'setattr', 'slice', 'sorted', 'staticmethod', 'str', 'sum', 'super', 'tuple', 'type', 'vars', 'zip']\n"
     ]
    }
   ],
   "source": [
    "#builtins\n",
    "import builtins\n",
    "print(dir(builtins))"
   ]
  },
  {
   "cell_type": "code",
   "execution_count": 98,
   "metadata": {},
   "outputs": [
    {
     "name": "stdout",
     "output_type": "stream",
     "text": [
      "15\n"
     ]
    }
   ],
   "source": [
    "x=sum([1,2,3,4,5])\n",
    "print(x)"
   ]
  },
  {
   "cell_type": "code",
   "execution_count": 102,
   "metadata": {},
   "outputs": [
    {
     "name": "stdout",
     "output_type": "stream",
     "text": [
      "[1, 2, 3, 4, 5, 6]\n"
     ]
    }
   ],
   "source": [
    "def sum(a,b):\n",
    "    return a+b\n",
    "x=sum([1,2,3,4,5],[6])\n",
    "print(x)"
   ]
  },
  {
   "cell_type": "code",
   "execution_count": 108,
   "metadata": {},
   "outputs": [
    {
     "ename": "TypeError",
     "evalue": "unsupported operand type(s) for ** or pow(): 'list' and 'int'",
     "output_type": "error",
     "traceback": [
      "\u001b[1;31m---------------------------------------------------------------------------\u001b[0m",
      "\u001b[1;31mTypeError\u001b[0m                                 Traceback (most recent call last)",
      "\u001b[1;32m<ipython-input-108-e822549695b9>\u001b[0m in \u001b[0;36m<module>\u001b[1;34m()\u001b[0m\n\u001b[0;32m      2\u001b[0m \u001b[0mx\u001b[0m\u001b[1;33m=\u001b[0m\u001b[1;33m[\u001b[0m\u001b[1;36m1\u001b[0m\u001b[1;33m,\u001b[0m\u001b[1;36m2\u001b[0m\u001b[1;33m,\u001b[0m\u001b[1;36m3\u001b[0m\u001b[1;33m,\u001b[0m\u001b[1;36m4\u001b[0m\u001b[1;33m,\u001b[0m\u001b[1;36m5\u001b[0m\u001b[1;33m]\u001b[0m\u001b[1;33m\u001b[0m\u001b[0m\n\u001b[0;32m      3\u001b[0m \u001b[0mp\u001b[0m\u001b[1;33m=\u001b[0m\u001b[1;32mlambda\u001b[0m \u001b[0mx\u001b[0m\u001b[1;33m:\u001b[0m\u001b[0mx\u001b[0m\u001b[1;33m**\u001b[0m\u001b[1;36m2\u001b[0m\u001b[1;33m\u001b[0m\u001b[0m\n\u001b[1;32m----> 4\u001b[1;33m \u001b[0mprint\u001b[0m\u001b[1;33m(\u001b[0m\u001b[0mp\u001b[0m\u001b[1;33m(\u001b[0m\u001b[0mx\u001b[0m\u001b[1;33m)\u001b[0m\u001b[1;33m)\u001b[0m\u001b[1;33m\u001b[0m\u001b[0m\n\u001b[0m",
      "\u001b[1;32m<ipython-input-108-e822549695b9>\u001b[0m in \u001b[0;36m<lambda>\u001b[1;34m(x)\u001b[0m\n\u001b[0;32m      1\u001b[0m \u001b[1;31m#lambda function\u001b[0m\u001b[1;33m\u001b[0m\u001b[1;33m\u001b[0m\u001b[0m\n\u001b[0;32m      2\u001b[0m \u001b[0mx\u001b[0m\u001b[1;33m=\u001b[0m\u001b[1;33m[\u001b[0m\u001b[1;36m1\u001b[0m\u001b[1;33m,\u001b[0m\u001b[1;36m2\u001b[0m\u001b[1;33m,\u001b[0m\u001b[1;36m3\u001b[0m\u001b[1;33m,\u001b[0m\u001b[1;36m4\u001b[0m\u001b[1;33m,\u001b[0m\u001b[1;36m5\u001b[0m\u001b[1;33m]\u001b[0m\u001b[1;33m\u001b[0m\u001b[0m\n\u001b[1;32m----> 3\u001b[1;33m \u001b[0mp\u001b[0m\u001b[1;33m=\u001b[0m\u001b[1;32mlambda\u001b[0m \u001b[0mx\u001b[0m\u001b[1;33m:\u001b[0m\u001b[0mx\u001b[0m\u001b[1;33m**\u001b[0m\u001b[1;36m2\u001b[0m\u001b[1;33m\u001b[0m\u001b[0m\n\u001b[0m\u001b[0;32m      4\u001b[0m \u001b[0mprint\u001b[0m\u001b[1;33m(\u001b[0m\u001b[0mp\u001b[0m\u001b[1;33m(\u001b[0m\u001b[0mx\u001b[0m\u001b[1;33m)\u001b[0m\u001b[1;33m)\u001b[0m\u001b[1;33m\u001b[0m\u001b[0m\n",
      "\u001b[1;31mTypeError\u001b[0m: unsupported operand type(s) for ** or pow(): 'list' and 'int'"
     ]
    }
   ],
   "source": [
    "#lambda function\n",
    "x=[1,2,3,4,5]\n",
    "p=lambda x:x**2\n",
    "print(p(x))"
   ]
  },
  {
   "cell_type": "code",
   "execution_count": null,
   "metadata": {},
   "outputs": [],
   "source": []
  }
 ],
 "metadata": {
  "kernelspec": {
   "display_name": "Python 3",
   "language": "python",
   "name": "python3"
  },
  "language_info": {
   "codemirror_mode": {
    "name": "ipython",
    "version": 3
   },
   "file_extension": ".py",
   "mimetype": "text/x-python",
   "name": "python",
   "nbconvert_exporter": "python",
   "pygments_lexer": "ipython3",
   "version": "3.6.5"
  }
 },
 "nbformat": 4,
 "nbformat_minor": 2
}
